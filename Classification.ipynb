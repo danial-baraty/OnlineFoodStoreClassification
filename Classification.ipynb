{
 "cells": [
  {
   "cell_type": "code",
   "execution_count": 1,
   "metadata": {},
   "outputs": [],
   "source": [
    "import pandas as pd\n",
    "from sklearn.preprocessing import OneHotEncoder\n",
    "import matplotlib.pyplot as plt\n",
    "import seaborn as sns\n",
    "import numpy as np\n",
    "import plotly.express as px\n",
    "from imodels import RuleFitClassifier\n",
    "from sklearn.model_selection import StratifiedKFold\n",
    "from sklearn.metrics import precision_score, recall_score, f1_score, accuracy_score\n",
    "from sklearn.model_selection import train_test_split, StratifiedKFold, GridSearchCV\n",
    "from sklearn.preprocessing import StandardScaler\n",
    "from sklearn.tree import DecisionTreeClassifier\n",
    "from sklearn.naive_bayes import GaussianNB\n",
    "from sklearn.model_selection import cross_val_score\n",
    "from rulefit import RuleFit\n",
    "from sklearn.tree import plot_tree\n",
    "from sklearn.impute import SimpleImputer\n",
    "from sklearn.tree import DecisionTreeClassifier, export_text\n",
    "from collections import Counter\n",
    "import warnings\n",
    "warnings.filterwarnings(\"ignore\")\n",
    "\n"
   ]
  },
  {
   "cell_type": "markdown",
   "metadata": {},
   "source": [
    "DATA OVERVIEW"
   ]
  },
  {
   "cell_type": "code",
   "execution_count": 2,
   "metadata": {},
   "outputs": [
    {
     "data": {
      "text/html": [
       "<div>\n",
       "<style scoped>\n",
       "    .dataframe tbody tr th:only-of-type {\n",
       "        vertical-align: middle;\n",
       "    }\n",
       "\n",
       "    .dataframe tbody tr th {\n",
       "        vertical-align: top;\n",
       "    }\n",
       "\n",
       "    .dataframe thead th {\n",
       "        text-align: right;\n",
       "    }\n",
       "</style>\n",
       "<table border=\"1\" class=\"dataframe\">\n",
       "  <thead>\n",
       "    <tr style=\"text-align: right;\">\n",
       "      <th></th>\n",
       "      <th>Age</th>\n",
       "      <th>Gender</th>\n",
       "      <th>Marital Status</th>\n",
       "      <th>Occupation</th>\n",
       "      <th>Monthly Income</th>\n",
       "      <th>Educational Qualifications</th>\n",
       "      <th>Family size</th>\n",
       "      <th>latitude</th>\n",
       "      <th>longitude</th>\n",
       "      <th>Pin code</th>\n",
       "      <th>Feedback</th>\n",
       "    </tr>\n",
       "  </thead>\n",
       "  <tbody>\n",
       "    <tr>\n",
       "      <th>0</th>\n",
       "      <td>20</td>\n",
       "      <td>Female</td>\n",
       "      <td>Single</td>\n",
       "      <td>Student</td>\n",
       "      <td>No Income</td>\n",
       "      <td>Post Graduate</td>\n",
       "      <td>4</td>\n",
       "      <td>12.9766</td>\n",
       "      <td>77.5993</td>\n",
       "      <td>560001</td>\n",
       "      <td>Positive</td>\n",
       "    </tr>\n",
       "    <tr>\n",
       "      <th>1</th>\n",
       "      <td>24</td>\n",
       "      <td>Female</td>\n",
       "      <td>Single</td>\n",
       "      <td>Student</td>\n",
       "      <td>Below Rs.10000</td>\n",
       "      <td>Graduate</td>\n",
       "      <td>3</td>\n",
       "      <td>12.9770</td>\n",
       "      <td>77.5773</td>\n",
       "      <td>560009</td>\n",
       "      <td>Positive</td>\n",
       "    </tr>\n",
       "    <tr>\n",
       "      <th>2</th>\n",
       "      <td>22</td>\n",
       "      <td>Male</td>\n",
       "      <td>Single</td>\n",
       "      <td>Student</td>\n",
       "      <td>Below Rs.10000</td>\n",
       "      <td>Post Graduate</td>\n",
       "      <td>3</td>\n",
       "      <td>12.9551</td>\n",
       "      <td>77.6593</td>\n",
       "      <td>560017</td>\n",
       "      <td>Negative</td>\n",
       "    </tr>\n",
       "    <tr>\n",
       "      <th>3</th>\n",
       "      <td>22</td>\n",
       "      <td>Female</td>\n",
       "      <td>Single</td>\n",
       "      <td>Student</td>\n",
       "      <td>No Income</td>\n",
       "      <td>Graduate</td>\n",
       "      <td>6</td>\n",
       "      <td>12.9473</td>\n",
       "      <td>77.5616</td>\n",
       "      <td>560019</td>\n",
       "      <td>Positive</td>\n",
       "    </tr>\n",
       "    <tr>\n",
       "      <th>4</th>\n",
       "      <td>22</td>\n",
       "      <td>Male</td>\n",
       "      <td>Single</td>\n",
       "      <td>Student</td>\n",
       "      <td>Below Rs.10000</td>\n",
       "      <td>Post Graduate</td>\n",
       "      <td>4</td>\n",
       "      <td>12.9850</td>\n",
       "      <td>77.5533</td>\n",
       "      <td>560010</td>\n",
       "      <td>Positive</td>\n",
       "    </tr>\n",
       "  </tbody>\n",
       "</table>\n",
       "</div>"
      ],
      "text/plain": [
       "   Age  Gender Marital Status Occupation  Monthly Income  \\\n",
       "0   20  Female         Single    Student       No Income   \n",
       "1   24  Female         Single    Student  Below Rs.10000   \n",
       "2   22    Male         Single    Student  Below Rs.10000   \n",
       "3   22  Female         Single    Student       No Income   \n",
       "4   22    Male         Single    Student  Below Rs.10000   \n",
       "\n",
       "  Educational Qualifications  Family size  latitude  longitude  Pin code  \\\n",
       "0              Post Graduate            4   12.9766    77.5993    560001   \n",
       "1                   Graduate            3   12.9770    77.5773    560009   \n",
       "2              Post Graduate            3   12.9551    77.6593    560017   \n",
       "3                   Graduate            6   12.9473    77.5616    560019   \n",
       "4              Post Graduate            4   12.9850    77.5533    560010   \n",
       "\n",
       "    Feedback  \n",
       "0   Positive  \n",
       "1   Positive  \n",
       "2  Negative   \n",
       "3   Positive  \n",
       "4   Positive  "
      ]
     },
     "execution_count": 2,
     "metadata": {},
     "output_type": "execute_result"
    }
   ],
   "source": [
    "data = pd.read_csv('onlinefoods.csv')\n",
    "data = data.drop('Unnamed: 12',axis=1)\n",
    "data = data.drop('Output',axis=1)\n",
    "\n",
    "data.head()"
   ]
  },
  {
   "cell_type": "code",
   "execution_count": 3,
   "metadata": {},
   "outputs": [
    {
     "name": "stdout",
     "output_type": "stream",
     "text": [
      "<class 'pandas.core.frame.DataFrame'>\n",
      "RangeIndex: 388 entries, 0 to 387\n",
      "Data columns (total 11 columns):\n",
      " #   Column                      Non-Null Count  Dtype  \n",
      "---  ------                      --------------  -----  \n",
      " 0   Age                         388 non-null    int64  \n",
      " 1   Gender                      388 non-null    object \n",
      " 2   Marital Status              388 non-null    object \n",
      " 3   Occupation                  388 non-null    object \n",
      " 4   Monthly Income              388 non-null    object \n",
      " 5   Educational Qualifications  388 non-null    object \n",
      " 6   Family size                 388 non-null    int64  \n",
      " 7   latitude                    388 non-null    float64\n",
      " 8   longitude                   388 non-null    float64\n",
      " 9   Pin code                    388 non-null    int64  \n",
      " 10  Feedback                    388 non-null    object \n",
      "dtypes: float64(2), int64(3), object(6)\n",
      "memory usage: 33.5+ KB\n"
     ]
    }
   ],
   "source": [
    "data.info()"
   ]
  },
  {
   "cell_type": "code",
   "execution_count": 4,
   "metadata": {},
   "outputs": [
    {
     "data": {
      "text/plain": [
       "Age                           0\n",
       "Gender                        0\n",
       "Marital Status                0\n",
       "Occupation                    0\n",
       "Monthly Income                0\n",
       "Educational Qualifications    0\n",
       "Family size                   0\n",
       "latitude                      0\n",
       "longitude                     0\n",
       "Pin code                      0\n",
       "Feedback                      0\n",
       "dtype: int64"
      ]
     },
     "execution_count": 4,
     "metadata": {},
     "output_type": "execute_result"
    }
   ],
   "source": [
    "data.isnull().sum()"
   ]
  },
  {
   "cell_type": "code",
   "execution_count": 5,
   "metadata": {},
   "outputs": [
    {
     "data": {
      "image/png": "[encoded data removed]",
      "text/plain": [
       "<Figure size 800x400 with 1 Axes>"
      ]
     },
     "metadata": {},
     "output_type": "display_data"
    }
   ],
   "source": [
    "plt.figure(figsize=(8, 4), dpi=100)\n",
    "sns.countplot(y='Gender', data=data, hue='Gender', palette='deep', legend=False)\n",
    "plt.title(\"Gender - Distribution\")\n",
    "plt.xlabel(\"Count\")\n",
    "plt.ylabel(\"Gender\")\n",
    "plt.show()"
   ]
  },
  {
   "cell_type": "code",
   "execution_count": 6,
   "metadata": {},
   "outputs": [
    {
     "name": "stdout",
     "output_type": "stream",
     "text": [
      "18\n",
      "33\n"
     ]
    }
   ],
   "source": [
    "max_age = max(data['Age'])\n",
    "min_age = min(data['Age'])\n",
    "print(min_age)\n",
    "print(max_age)"
   ]
  },
  {
   "cell_type": "code",
   "execution_count": 7,
   "metadata": {},
   "outputs": [
    {
     "data": {
      "image/png": "[encoded data removed]",
      "text/plain": [
       "<Figure size 800x400 with 1 Axes>"
      ]
     },
     "metadata": {},
     "output_type": "display_data"
    }
   ],
   "source": [
    "median_age = data['Age'].median()\n",
    "mode_age = data['Age'].mode()[0]  \n",
    "\n",
    "plt.figure(figsize=(8, 4), dpi=100)\n",
    "sns.histplot(data['Age'], bins=7, kde=True, color=\"skyblue\")\n",
    "plt.axvline(median_age, color='orange', linestyle='--', linewidth=2, label=f'Median: {median_age}')\n",
    "plt.axvline(mode_age, color='purple', linestyle='--', linewidth=2, label=f'Mode: {mode_age}')\n",
    "plt.title(\"Age - Distribution\")\n",
    "plt.xlabel(\"Age\")\n",
    "plt.ylabel(\"Count\")\n",
    "plt.legend()\n",
    "plt.show()"
   ]
  },
  {
   "cell_type": "code",
   "execution_count": 8,
   "metadata": {},
   "outputs": [
    {
     "data": {
      "image/png": "[encoded data removed]",
      "text/plain": [
       "<Figure size 800x400 with 1 Axes>"
      ]
     },
     "metadata": {},
     "output_type": "display_data"
    }
   ],
   "source": [
    "plt.figure(figsize=(8, 4), dpi=100)\n",
    "sns.countplot(y='Marital Status', data=data, hue='Marital Status', palette='pastel', legend=False)\n",
    "plt.title(\"Marital Status - Distribution\")\n",
    "plt.xlabel(\"Count\")\n",
    "plt.ylabel(\"Marital Status\")\n",
    "plt.show()"
   ]
  },
  {
   "cell_type": "code",
   "execution_count": 9,
   "metadata": {},
   "outputs": [
    {
     "data": {
      "image/png": "[encoded data removed]",
      "text/plain": [
       "<Figure size 800x400 with 1 Axes>"
      ]
     },
     "metadata": {},
     "output_type": "display_data"
    }
   ],
   "source": [
    "plt.figure(figsize=(8, 4), dpi=100)\n",
    "sns.countplot(x='Family size', data=data, hue='Family size', palette='pastel', dodge=False)\n",
    "plt.title(\"Family size - Distribution\")\n",
    "plt.ylabel(\"Count\")\n",
    "plt.xlabel(\"Family size\")\n",
    "plt.show()"
   ]
  },
  {
   "cell_type": "code",
   "execution_count": 10,
   "metadata": {},
   "outputs": [
    {
     "data": {
      "image/png": "[encoded data removed]",
      "text/plain": [
       "<Figure size 800x400 with 1 Axes>"
      ]
     },
     "metadata": {},
     "output_type": "display_data"
    }
   ],
   "source": [
    "plt.figure(figsize=(8, 4), dpi=100)\n",
    "sns.countplot(y='Occupation', data=data, hue='Occupation', palette='muted', legend=False)\n",
    "plt.title(\"Occupation - Distribution\")\n",
    "plt.xlabel(\"Count\")\n",
    "plt.ylabel(\"Occupation\")\n",
    "plt.show()"
   ]
  },
  {
   "cell_type": "code",
   "execution_count": 11,
   "metadata": {},
   "outputs": [
    {
     "data": {
      "image/png": "[encoded data removed]",
      "text/plain": [
       "<Figure size 800x400 with 1 Axes>"
      ]
     },
     "metadata": {},
     "output_type": "display_data"
    }
   ],
   "source": [
    "plt.figure(figsize=(8, 4), dpi=100)\n",
    "sns.countplot(y='Educational Qualifications', data=data, hue='Educational Qualifications', palette='bright', legend=False)\n",
    "plt.title(\"Educational Qualifications - Distribution\")\n",
    "plt.xlabel(\"Count\")\n",
    "plt.ylabel(\"Educational Qualifications\")\n",
    "plt.show()"
   ]
  },
  {
   "cell_type": "code",
   "execution_count": 12,
   "metadata": {},
   "outputs": [
    {
     "data": {
      "image/png": "[encoded data removed]",
      "text/plain": [
       "<Figure size 1000x800 with 1 Axes>"
      ]
     },
     "metadata": {},
     "output_type": "display_data"
    }
   ],
   "source": [
    "\n",
    "income_counts = data['Monthly Income'].value_counts()\n",
    "\n",
    "colors = sns.color_palette(\"pastel\")\n",
    "plt.figure(figsize=(10, 8), dpi=100)\n",
    "plt.pie(income_counts, labels=income_counts.index, autopct='%1.1f%%', startangle=140,\n",
    "        colors=colors, wedgeprops={'edgecolor': 'black', 'linewidth': 1}, textprops={'fontsize': 12})\n",
    "plt.title(\"Monthly Income - Distribution\", fontsize=16, fontweight='bold')\n",
    "\n",
    "plt.show()\n"
   ]
  },
  {
   "cell_type": "code",
   "execution_count": 13,
   "metadata": {},
   "outputs": [
    {
     "data": {
      "application/vnd.plotly.v1+json": {
       "config": {
        "plotlyServerURL": "https://plot.ly"
       },
       "data": [
        {
         "geo": "geo",
         "hovertemplate": "Pin code=%{text}<br>latitude=%{lat}<br>longitude=%{lon}<extra></extra>",
         "lat": [
          12.9766,
          12.977,
          12.9551,
          12.9473,
          12.985,
          12.9299,
          12.977,
          12.9828,
          12.9766,
          12.9854,
          12.985,
          12.977,
          12.8988,
          12.977,
          12.9438,
          12.8893,
          12.9783,
          12.982,
          12.8988,
          12.9783,
          12.977,
          13.0298,
          12.9983,
          12.9925,
          12.9306,
          12.982,
          12.9353,
          12.9155,
          12.9854,
          13.0019,
          12.9698,
          12.9783,
          12.9261,
          12.985,
          12.9119,
          12.9306,
          12.977,
          12.982,
          12.9438,
          12.8988,
          12.9662,
          12.9565,
          12.9925,
          12.985,
          12.985,
          12.9261,
          12.977,
          12.977,
          12.982,
          12.985,
          13.0206,
          12.977,
          12.977,
          12.9635,
          12.9306,
          13.0067,
          12.8845,
          12.977,
          12.9119,
          13.0067,
          12.8988,
          12.8845,
          13.0158,
          12.9343,
          13.0019,
          13.0012,
          12.9442,
          13.0487,
          13.0487,
          12.9438,
          12.9889,
          12.9335,
          12.9766,
          12.8845,
          13.0019,
          13.102,
          12.9048,
          12.977,
          12.977,
          12.9337,
          12.9037,
          12.977,
          12.9343,
          12.9438,
          12.977,
          12.9783,
          12.9337,
          12.977,
          12.977,
          13.0289,
          13.0289,
          12.9698,
          12.977,
          12.977,
          12.9561,
          12.977,
          13.0206,
          13.0206,
          12.9579,
          13.014,
          12.9335,
          12.9442,
          12.9698,
          12.9438,
          12.9261,
          12.9698,
          12.9698,
          12.9343,
          12.9698,
          12.9635,
          12.977,
          12.9343,
          12.9925,
          13.0206,
          12.985,
          12.9551,
          13.0289,
          13.0138,
          12.9261,
          12.9766,
          12.9766,
          12.9766,
          12.9635,
          12.9635,
          12.9635,
          12.9635,
          12.977,
          12.977,
          12.977,
          13.0487,
          13.0019,
          13.0019,
          13.0019,
          13.0019,
          12.9537,
          12.9698,
          12.998,
          12.998,
          12.998,
          12.9343,
          13.102,
          13.0158,
          12.998,
          12.998,
          13.0138,
          13.0138,
          12.977,
          13.0496,
          12.9783,
          12.9889,
          12.977,
          13.0487,
          12.9579,
          12.9579,
          12.9579,
          13.0487,
          12.985,
          12.985,
          12.985,
          12.9337,
          12.9337,
          12.9337,
          13.0166,
          13.014,
          13.014,
          13.0503,
          13.0503,
          12.9883,
          13.0626,
          13.0626,
          13.0626,
          13.0166,
          13.0166,
          12.9551,
          12.9551,
          12.9551,
          12.957,
          12.957,
          12.957,
          12.957,
          12.957,
          12.8652,
          12.9698,
          12.9889,
          12.9889,
          12.9925,
          12.977,
          12.9757,
          12.9757,
          13.0487,
          13.0487,
          12.9662,
          12.9662,
          12.9343,
          12.9343,
          12.9343,
          12.9442,
          12.9442,
          12.9442,
          13.0298,
          12.9261,
          12.9621,
          12.8845,
          12.9048,
          12.9048,
          12.9261,
          12.9261,
          12.977,
          12.9783,
          12.9783,
          12.9217,
          13.0206,
          13.0012,
          13.0223,
          12.9337,
          12.982,
          13.0262,
          12.9217,
          13.0078,
          13.0078,
          12.9217,
          12.9105,
          12.9105,
          12.9037,
          12.8834,
          12.9149,
          12.9149,
          12.9706,
          12.9706,
          12.9706,
          12.8845,
          12.9783,
          13.0103,
          13.0103,
          12.9306,
          13.0641,
          13.0158,
          12.9561,
          12.8845,
          12.9369,
          12.9369,
          12.9369,
          12.9369,
          13.0158,
          13.0809,
          13.0641,
          12.9859,
          12.9859,
          12.9866,
          12.9847,
          12.9847,
          12.9847,
          12.9299,
          12.9299,
          12.9828,
          12.989,
          12.977,
          12.9251,
          12.9967,
          12.9967,
          12.9967,
          12.957,
          12.957,
          12.9889,
          13.0206,
          12.8893,
          12.8893,
          12.9967,
          12.9783,
          12.9783,
          12.9925,
          12.9925,
          12.9561,
          12.9561,
          13.0734,
          13.0487,
          12.9515,
          12.9515,
          12.9719,
          12.9048,
          12.9048,
          13.0103,
          13.0103,
          12.8893,
          12.9828,
          12.9757,
          12.9757,
          12.9757,
          13.0734,
          13.0734,
          13.0734,
          13.0626,
          13.0626,
          12.977,
          12.998,
          13.0626,
          13.0626,
          13.0138,
          13.0138,
          13.014,
          12.9551,
          12.9473,
          12.985,
          12.9299,
          12.977,
          12.9828,
          12.9766,
          12.9854,
          12.985,
          12.977,
          12.9037,
          12.8834,
          12.9149,
          12.9149,
          12.9706,
          12.9706,
          12.9706,
          12.8845,
          12.9783,
          13.0103,
          13.0103,
          12.9306,
          13.0641,
          13.0158,
          12.9561,
          12.8845,
          12.9369,
          12.9369,
          12.9369,
          12.8845,
          12.9048,
          12.9048,
          12.9261,
          12.9261,
          12.977,
          12.9783,
          12.9783,
          12.9217,
          13.0206,
          13.0012,
          13.0223,
          12.9337,
          12.982,
          13.0262,
          12.9217,
          12.8845,
          12.9048,
          12.9048,
          12.9261,
          12.9261,
          12.977,
          12.9783,
          12.9783,
          12.9217,
          13.0206,
          13.0012,
          12.9706,
          12.9706,
          12.9706,
          12.8845,
          12.9783,
          13.0103,
          13.0103,
          12.9306,
          13.0641,
          13.0158,
          12.9561,
          12.8845,
          12.9369,
          12.9369,
          12.9369,
          12.9369,
          13.0158,
          13.0809,
          13.0641,
          12.9859,
          12.9859,
          12.9866,
          12.9847,
          12.985,
          12.9299,
          12.977,
          12.9828,
          12.9766,
          12.9854,
          12.985,
          12.977,
          12.8988
         ],
         "legendgroup": "",
         "lon": [
          77.5993,
          77.5773,
          77.6593,
          77.5616,
          77.5533,
          77.6848,
          77.5773,
          77.6131,
          77.5993,
          77.7081,
          77.5533,
          77.5773,
          77.5764,
          77.5773,
          77.5738,
          77.6399,
          77.6408,
          77.6256,
          77.5764,
          77.6408,
          77.5773,
          77.6047,
          77.6409,
          77.5633,
          77.5434,
          77.6256,
          77.5585,
          77.5135,
          77.7081,
          77.5713,
          77.75,
          77.6408,
          77.6221,
          77.5533,
          77.6446,
          77.5434,
          77.5773,
          77.6256,
          77.5738,
          77.5764,
          77.6068,
          77.5484,
          77.5633,
          77.5533,
          77.5533,
          77.6221,
          77.5773,
          77.5773,
          77.6256,
          77.5533,
          77.6479,
          77.5773,
          77.5773,
          77.5821,
          77.5434,
          77.545,
          77.6036,
          77.5773,
          77.6446,
          77.545,
          77.5764,
          77.6036,
          77.539,
          77.6044,
          77.5713,
          77.5995,
          77.6076,
          77.5923,
          77.5923,
          77.5738,
          77.5741,
          77.5691,
          77.5993,
          77.6036,
          77.5713,
          77.5864,
          77.6821,
          77.5773,
          77.5773,
          77.59,
          77.5376,
          77.5773,
          77.6044,
          77.5738,
          77.5773,
          77.6408,
          77.59,
          77.5773,
          77.5773,
          77.54,
          77.54,
          77.75,
          77.5773,
          77.5773,
          77.5921,
          77.5773,
          77.6479,
          77.6479,
          77.6309,
          77.5658,
          77.5691,
          77.6076,
          77.75,
          77.5738,
          77.6221,
          77.75,
          77.75,
          77.6044,
          77.75,
          77.5821,
          77.5773,
          77.6044,
          77.5633,
          77.6479,
          77.5533,
          77.6593,
          77.54,
          77.5877,
          77.6221,
          77.5993,
          77.5993,
          77.5993,
          77.5821,
          77.5821,
          77.5821,
          77.5821,
          77.5773,
          77.5773,
          77.5773,
          77.5923,
          77.5713,
          77.5713,
          77.5713,
          77.5713,
          77.6176,
          77.75,
          77.6227,
          77.6227,
          77.6227,
          77.6044,
          77.5864,
          77.539,
          77.6227,
          77.6227,
          77.5877,
          77.5877,
          77.5773,
          77.4941,
          77.6408,
          77.5741,
          77.5773,
          77.5923,
          77.6309,
          77.6309,
          77.6309,
          77.5923,
          77.5533,
          77.5533,
          77.5533,
          77.59,
          77.59,
          77.59,
          77.6804,
          77.5658,
          77.5658,
          77.5529,
          77.5529,
          77.5987,
          77.5284,
          77.5284,
          77.5284,
          77.6804,
          77.6804,
          77.6593,
          77.6593,
          77.6593,
          77.5637,
          77.5637,
          77.5637,
          77.5637,
          77.5637,
          77.524,
          77.75,
          77.5741,
          77.5741,
          77.5633,
          77.5773,
          77.5586,
          77.5586,
          77.5923,
          77.5923,
          77.6068,
          77.6068,
          77.6044,
          77.6044,
          77.6044,
          77.6076,
          77.6076,
          77.6076,
          77.6047,
          77.6221,
          77.5376,
          77.6036,
          77.6821,
          77.6821,
          77.6221,
          77.6221,
          77.5773,
          77.6408,
          77.6408,
          77.5936,
          77.6479,
          77.5995,
          77.7132,
          77.59,
          77.6256,
          77.62,
          77.5936,
          77.5577,
          77.5577,
          77.5936,
          77.4842,
          77.4842,
          77.5376,
          77.5486,
          77.5635,
          77.5635,
          77.6529,
          77.6529,
          77.6529,
          77.6036,
          77.6408,
          77.5796,
          77.5796,
          77.5434,
          77.5931,
          77.539,
          77.5921,
          77.6036,
          77.6407,
          77.6407,
          77.6407,
          77.6407,
          77.539,
          77.5565,
          77.5931,
          77.6713,
          77.6713,
          77.4904,
          77.5491,
          77.5491,
          77.5491,
          77.6848,
          77.6848,
          77.6131,
          77.5332,
          77.5773,
          77.4992,
          77.7582,
          77.7582,
          77.7582,
          77.5637,
          77.5637,
          77.5741,
          77.6479,
          77.6399,
          77.6399,
          77.7582,
          77.6408,
          77.6408,
          77.5633,
          77.5633,
          77.5921,
          77.5921,
          77.5464,
          77.5923,
          77.4921,
          77.4921,
          77.5128,
          77.6821,
          77.6821,
          77.5796,
          77.5796,
          77.6399,
          77.6131,
          77.5586,
          77.5586,
          77.5586,
          77.5464,
          77.5464,
          77.5464,
          77.5284,
          77.5284,
          77.5773,
          77.6227,
          77.5284,
          77.5284,
          77.5877,
          77.5877,
          77.5658,
          77.6593,
          77.5616,
          77.5533,
          77.6848,
          77.5773,
          77.6131,
          77.5993,
          77.7081,
          77.5533,
          77.5773,
          77.5376,
          77.5486,
          77.5635,
          77.5635,
          77.6529,
          77.6529,
          77.6529,
          77.6036,
          77.6408,
          77.5796,
          77.5796,
          77.5434,
          77.5931,
          77.539,
          77.5921,
          77.6036,
          77.6407,
          77.6407,
          77.6407,
          77.6036,
          77.6821,
          77.6821,
          77.6221,
          77.6221,
          77.5773,
          77.6408,
          77.6408,
          77.5936,
          77.6479,
          77.5995,
          77.7132,
          77.59,
          77.6256,
          77.62,
          77.5936,
          77.6036,
          77.6821,
          77.6821,
          77.6221,
          77.6221,
          77.5773,
          77.6408,
          77.6408,
          77.5936,
          77.6479,
          77.5995,
          77.6529,
          77.6529,
          77.6529,
          77.6036,
          77.6408,
          77.5796,
          77.5796,
          77.5434,
          77.5931,
          77.539,
          77.5921,
          77.6036,
          77.6407,
          77.6407,
          77.6407,
          77.6407,
          77.539,
          77.5565,
          77.5931,
          77.6713,
          77.6713,
          77.4904,
          77.5491,
          77.5533,
          77.6848,
          77.5773,
          77.6131,
          77.5993,
          77.7081,
          77.5533,
          77.5773,
          77.5764
         ],
         "marker": {
          "color": "#636efa",
          "symbol": "circle"
         },
         "mode": "markers+text",
         "name": "",
         "showlegend": false,
         "text": [
          560001,
          560009,
          560017,
          560019,
          560010,
          560103,
          560009,
          560042,
          560001,
          560048,
          560010,
          560009,
          560078,
          560009,
          560004,
          560068,
          560038,
          560008,
          560078,
          560038,
          560009,
          560032,
          560033,
          560021,
          560085,
          560008,
          560050,
          560098,
          560048,
          560003,
          560066,
          560038,
          560034,
          560010,
          560102,
          560085,
          560009,
          560008,
          560004,
          560078,
          560025,
          560026,
          560021,
          560010,
          560010,
          560034,
          560009,
          560009,
          560008,
          560010,
          560043,
          560009,
          560009,
          560002,
          560085,
          560086,
          560076,
          560009,
          560102,
          560086,
          560078,
          560076,
          560096,
          560029,
          560003,
          560046,
          560030,
          560024,
          560024,
          560004,
          560020,
          560028,
          560001,
          560076,
          560003,
          560064,
          560036,
          560009,
          560009,
          560011,
          560061,
          560009,
          560029,
          560004,
          560009,
          560038,
          560011,
          560009,
          560009,
          560022,
          560022,
          560066,
          560009,
          560009,
          560027,
          560009,
          560043,
          560043,
          560007,
          560012,
          560028,
          560030,
          560066,
          560004,
          560034,
          560066,
          560066,
          560029,
          560066,
          560002,
          560009,
          560029,
          560021,
          560043,
          560010,
          560017,
          560022,
          560006,
          560034,
          560001,
          560001,
          560001,
          560002,
          560002,
          560002,
          560002,
          560009,
          560009,
          560009,
          560024,
          560003,
          560003,
          560003,
          560003,
          560047,
          560066,
          560005,
          560005,
          560005,
          560029,
          560064,
          560096,
          560005,
          560005,
          560006,
          560006,
          560009,
          560073,
          560038,
          560020,
          560009,
          560024,
          560007,
          560007,
          560007,
          560024,
          560010,
          560010,
          560010,
          560011,
          560011,
          560011,
          560016,
          560012,
          560012,
          560013,
          560013,
          560051,
          560015,
          560015,
          560015,
          560016,
          560016,
          560017,
          560017,
          560017,
          560018,
          560018,
          560018,
          560018,
          560018,
          560109,
          560066,
          560020,
          560020,
          560021,
          560009,
          560023,
          560023,
          560024,
          560024,
          560025,
          560025,
          560029,
          560029,
          560029,
          560030,
          560030,
          560030,
          560032,
          560034,
          560104,
          560076,
          560036,
          560036,
          560034,
          560034,
          560009,
          560038,
          560038,
          560041,
          560043,
          560046,
          560049,
          560011,
          560008,
          560045,
          560041,
          560055,
          560055,
          560041,
          560060,
          560060,
          560061,
          560062,
          560070,
          560070,
          560075,
          560075,
          560075,
          560076,
          560038,
          560080,
          560080,
          560085,
          560092,
          560096,
          560027,
          560076,
          560095,
          560095,
          560095,
          560095,
          560096,
          560097,
          560092,
          560093,
          560093,
          560091,
          560100,
          560100,
          560100,
          560103,
          560103,
          560042,
          560079,
          560009,
          560059,
          560067,
          560067,
          560067,
          560018,
          560018,
          560020,
          560043,
          560068,
          560068,
          560067,
          560038,
          560038,
          560021,
          560021,
          560027,
          560027,
          560014,
          560024,
          560056,
          560056,
          560072,
          560036,
          560036,
          560080,
          560080,
          560068,
          560042,
          560023,
          560023,
          560023,
          560014,
          560014,
          560014,
          560015,
          560015,
          560009,
          560005,
          560015,
          560015,
          560006,
          560006,
          560012,
          560017,
          560019,
          560010,
          560103,
          560009,
          560042,
          560001,
          560048,
          560010,
          560009,
          560061,
          560062,
          560070,
          560070,
          560075,
          560075,
          560075,
          560076,
          560038,
          560080,
          560080,
          560085,
          560092,
          560096,
          560027,
          560076,
          560095,
          560095,
          560095,
          560076,
          560036,
          560036,
          560034,
          560034,
          560009,
          560038,
          560038,
          560041,
          560043,
          560046,
          560049,
          560011,
          560008,
          560045,
          560041,
          560076,
          560036,
          560036,
          560034,
          560034,
          560009,
          560038,
          560038,
          560041,
          560043,
          560046,
          560075,
          560075,
          560075,
          560076,
          560038,
          560080,
          560080,
          560085,
          560092,
          560096,
          560027,
          560076,
          560095,
          560095,
          560095,
          560095,
          560096,
          560097,
          560092,
          560093,
          560093,
          560091,
          560100,
          560010,
          560103,
          560009,
          560042,
          560001,
          560048,
          560010,
          560009,
          560078
         ],
         "type": "scattergeo"
        }
       ],
       "layout": {
        "geo": {
         "center": {},
         "domain": {
          "x": [
           0,
           1
          ],
          "y": [
           0,
           1
          ]
         }
        },
        "legend": {
         "tracegroupgap": 0
        },
        "template": {
         "data": {
          "bar": [
           {
            "error_x": {
             "color": "#2a3f5f"
            },
            "error_y": {
             "color": "#2a3f5f"
            },
            "marker": {
             "line": {
              "color": "#E5ECF6",
              "width": 0.5
             },
             "pattern": {
              "fillmode": "overlay",
              "size": 10,
              "solidity": 0.2
             }
            },
            "type": "bar"
           }
          ],
          "barpolar": [
           {
            "marker": {
             "line": {
              "color": "#E5ECF6",
              "width": 0.5
             },
             "pattern": {
              "fillmode": "overlay",
              "size": 10,
              "solidity": 0.2
             }
            },
            "type": "barpolar"
           }
          ],
          "carpet": [
           {
            "aaxis": {
             "endlinecolor": "#2a3f5f",
             "gridcolor": "white",
             "linecolor": "white",
             "minorgridcolor": "white",
             "startlinecolor": "#2a3f5f"
            },
            "baxis": {
             "endlinecolor": "#2a3f5f",
             "gridcolor": "white",
             "linecolor": "white",
             "minorgridcolor": "white",
             "startlinecolor": "#2a3f5f"
            },
            "type": "carpet"
           }
          ],
          "choropleth": [
           {
            "colorbar": {
             "outlinewidth": 0,
             "ticks": ""
            },
            "type": "choropleth"
           }
          ],
          "contour": [
           {
            "colorbar": {
             "outlinewidth": 0,
             "ticks": ""
            },
            "colorscale": [
             [
              0,
              "#0d0887"
             ],
             [
              0.1111111111111111,
              "#46039f"
             ],
             [
              0.2222222222222222,
              "#7201a8"
             ],
             [
              0.3333333333333333,
              "#9c179e"
             ],
             [
              0.4444444444444444,
              "#bd3786"
             ],
             [
              0.5555555555555556,
              "#d8576b"
             ],
             [
              0.6666666666666666,
              "#ed7953"
             ],
             [
              0.7777777777777778,
              "#fb9f3a"
             ],
             [
              0.8888888888888888,
              "#fdca26"
             ],
             [
              1,
              "#f0f921"
             ]
            ],
            "type": "contour"
           }
          ],
          "contourcarpet": [
           {
            "colorbar": {
             "outlinewidth": 0,
             "ticks": ""
            },
            "type": "contourcarpet"
           }
          ],
          "heatmap": [
           {
            "colorbar": {
             "outlinewidth": 0,
             "ticks": ""
            },
            "colorscale": [
             [
              0,
              "#0d0887"
             ],
             [
              0.1111111111111111,
              "#46039f"
             ],
             [
              0.2222222222222222,
              "#7201a8"
             ],
             [
              0.3333333333333333,
              "#9c179e"
             ],
             [
              0.4444444444444444,
              "#bd3786"
             ],
             [
              0.5555555555555556,
              "#d8576b"
             ],
             [
              0.6666666666666666,
              "#ed7953"
             ],
             [
              0.7777777777777778,
              "#fb9f3a"
             ],
             [
              0.8888888888888888,
              "#fdca26"
             ],
             [
              1,
              "#f0f921"
             ]
            ],
            "type": "heatmap"
           }
          ],
          "heatmapgl": [
           {
            "colorbar": {
             "outlinewidth": 0,
             "ticks": ""
            },
            "colorscale": [
             [
              0,
              "#0d0887"
             ],
             [
              0.1111111111111111,
              "#46039f"
             ],
             [
              0.2222222222222222,
              "#7201a8"
             ],
             [
              0.3333333333333333,
              "#9c179e"
             ],
             [
              0.4444444444444444,
              "#bd3786"
             ],
             [
              0.5555555555555556,
              "#d8576b"
             ],
             [
              0.6666666666666666,
              "#ed7953"
             ],
             [
              0.7777777777777778,
              "#fb9f3a"
             ],
             [
              0.8888888888888888,
              "#fdca26"
             ],
             [
              1,
              "#f0f921"
             ]
            ],
            "type": "heatmapgl"
           }
          ],
          "histogram": [
           {
            "marker": {
             "pattern": {
              "fillmode": "overlay",
              "size": 10,
              "solidity": 0.2
             }
            },
            "type": "histogram"
           }
          ],
          "histogram2d": [
           {
            "colorbar": {
             "outlinewidth": 0,
             "ticks": ""
            },
            "colorscale": [
             [
              0,
              "#0d0887"
             ],
             [
              0.1111111111111111,
              "#46039f"
             ],
             [
              0.2222222222222222,
              "#7201a8"
             ],
             [
              0.3333333333333333,
              "#9c179e"
             ],
             [
              0.4444444444444444,
              "#bd3786"
             ],
             [
              0.5555555555555556,
              "#d8576b"
             ],
             [
              0.6666666666666666,
              "#ed7953"
             ],
             [
              0.7777777777777778,
              "#fb9f3a"
             ],
             [
              0.8888888888888888,
              "#fdca26"
             ],
             [
              1,
              "#f0f921"
             ]
            ],
            "type": "histogram2d"
           }
          ],
          "histogram2dcontour": [
           {
            "colorbar": {
             "outlinewidth": 0,
             "ticks": ""
            },
            "colorscale": [
             [
              0,
              "#0d0887"
             ],
             [
              0.1111111111111111,
              "#46039f"
             ],
             [
              0.2222222222222222,
              "#7201a8"
             ],
             [
              0.3333333333333333,
              "#9c179e"
             ],
             [
              0.4444444444444444,
              "#bd3786"
             ],
             [
              0.5555555555555556,
              "#d8576b"
             ],
             [
              0.6666666666666666,
              "#ed7953"
             ],
             [
              0.7777777777777778,
              "#fb9f3a"
             ],
             [
              0.8888888888888888,
              "#fdca26"
             ],
             [
              1,
              "#f0f921"
             ]
            ],
            "type": "histogram2dcontour"
           }
          ],
          "mesh3d": [
           {
            "colorbar": {
             "outlinewidth": 0,
             "ticks": ""
            },
            "type": "mesh3d"
           }
          ],
          "parcoords": [
           {
            "line": {
             "colorbar": {
              "outlinewidth": 0,
              "ticks": ""
             }
            },
            "type": "parcoords"
           }
          ],
          "pie": [
           {
            "automargin": true,
            "type": "pie"
           }
          ],
          "scatter": [
           {
            "fillpattern": {
             "fillmode": "overlay",
             "size": 10,
             "solidity": 0.2
            },
            "type": "scatter"
           }
          ],
          "scatter3d": [
           {
            "line": {
             "colorbar": {
              "outlinewidth": 0,
              "ticks": ""
             }
            },
            "marker": {
             "colorbar": {
              "outlinewidth": 0,
              "ticks": ""
             }
            },
            "type": "scatter3d"
           }
          ],
          "scattercarpet": [
           {
            "marker": {
             "colorbar": {
              "outlinewidth": 0,
              "ticks": ""
             }
            },
            "type": "scattercarpet"
           }
          ],
          "scattergeo": [
           {
            "marker": {
             "colorbar": {
              "outlinewidth": 0,
              "ticks": ""
             }
            },
            "type": "scattergeo"
           }
          ],
          "scattergl": [
           {
            "marker": {
             "colorbar": {
              "outlinewidth": 0,
              "ticks": ""
             }
            },
            "type": "scattergl"
           }
          ],
          "scattermapbox": [
           {
            "marker": {
             "colorbar": {
              "outlinewidth": 0,
              "ticks": ""
             }
            },
            "type": "scattermapbox"
           }
          ],
          "scatterpolar": [
           {
            "marker": {
             "colorbar": {
              "outlinewidth": 0,
              "ticks": ""
             }
            },
            "type": "scatterpolar"
           }
          ],
          "scatterpolargl": [
           {
            "marker": {
             "colorbar": {
              "outlinewidth": 0,
              "ticks": ""
             }
            },
            "type": "scatterpolargl"
           }
          ],
          "scatterternary": [
           {
            "marker": {
             "colorbar": {
              "outlinewidth": 0,
              "ticks": ""
             }
            },
            "type": "scatterternary"
           }
          ],
          "surface": [
           {
            "colorbar": {
             "outlinewidth": 0,
             "ticks": ""
            },
            "colorscale": [
             [
              0,
              "#0d0887"
             ],
             [
              0.1111111111111111,
              "#46039f"
             ],
             [
              0.2222222222222222,
              "#7201a8"
             ],
             [
              0.3333333333333333,
              "#9c179e"
             ],
             [
              0.4444444444444444,
              "#bd3786"
             ],
             [
              0.5555555555555556,
              "#d8576b"
             ],
             [
              0.6666666666666666,
              "#ed7953"
             ],
             [
              0.7777777777777778,
              "#fb9f3a"
             ],
             [
              0.8888888888888888,
              "#fdca26"
             ],
             [
              1,
              "#f0f921"
             ]
            ],
            "type": "surface"
           }
          ],
          "table": [
           {
            "cells": {
             "fill": {
              "color": "#EBF0F8"
             },
             "line": {
              "color": "white"
             }
            },
            "header": {
             "fill": {
              "color": "#C8D4E3"
             },
             "line": {
              "color": "white"
             }
            },
            "type": "table"
           }
          ]
         },
         "layout": {
          "annotationdefaults": {
           "arrowcolor": "#2a3f5f",
           "arrowhead": 0,
           "arrowwidth": 1
          },
          "autotypenumbers": "strict",
          "coloraxis": {
           "colorbar": {
            "outlinewidth": 0,
            "ticks": ""
           }
          },
          "colorscale": {
           "diverging": [
            [
             0,
             "#8e0152"
            ],
            [
             0.1,
             "#c51b7d"
            ],
            [
             0.2,
             "#de77ae"
            ],
            [
             0.3,
             "#f1b6da"
            ],
            [
             0.4,
             "#fde0ef"
            ],
            [
             0.5,
             "#f7f7f7"
            ],
            [
             0.6,
             "#e6f5d0"
            ],
            [
             0.7,
             "#b8e186"
            ],
            [
             0.8,
             "#7fbc41"
            ],
            [
             0.9,
             "#4d9221"
            ],
            [
             1,
             "#276419"
            ]
           ],
           "sequential": [
            [
             0,
             "#0d0887"
            ],
            [
             0.1111111111111111,
             "#46039f"
            ],
            [
             0.2222222222222222,
             "#7201a8"
            ],
            [
             0.3333333333333333,
             "#9c179e"
            ],
            [
             0.4444444444444444,
             "#bd3786"
            ],
            [
             0.5555555555555556,
             "#d8576b"
            ],
            [
             0.6666666666666666,
             "#ed7953"
            ],
            [
             0.7777777777777778,
             "#fb9f3a"
            ],
            [
             0.8888888888888888,
             "#fdca26"
            ],
            [
             1,
             "#f0f921"
            ]
           ],
           "sequentialminus": [
            [
             0,
             "#0d0887"
            ],
            [
             0.1111111111111111,
             "#46039f"
            ],
            [
             0.2222222222222222,
             "#7201a8"
            ],
            [
             0.3333333333333333,
             "#9c179e"
            ],
            [
             0.4444444444444444,
             "#bd3786"
            ],
            [
             0.5555555555555556,
             "#d8576b"
            ],
            [
             0.6666666666666666,
             "#ed7953"
            ],
            [
             0.7777777777777778,
             "#fb9f3a"
            ],
            [
             0.8888888888888888,
             "#fdca26"
            ],
            [
             1,
             "#f0f921"
            ]
           ]
          },
          "colorway": [
           "#636efa",
           "#EF553B",
           "#00cc96",
           "#ab63fa",
           "#FFA15A",
           "#19d3f3",
           "#FF6692",
           "#B6E880",
           "#FF97FF",
           "#FECB52"
          ],
          "font": {
           "color": "#2a3f5f"
          },
          "geo": {
           "bgcolor": "white",
           "lakecolor": "white",
           "landcolor": "#E5ECF6",
           "showlakes": true,
           "showland": true,
           "subunitcolor": "white"
          },
          "hoverlabel": {
           "align": "left"
          },
          "hovermode": "closest",
          "mapbox": {
           "style": "light"
          },
          "paper_bgcolor": "white",
          "plot_bgcolor": "#E5ECF6",
          "polar": {
           "angularaxis": {
            "gridcolor": "white",
            "linecolor": "white",
            "ticks": ""
           },
           "bgcolor": "#E5ECF6",
           "radialaxis": {
            "gridcolor": "white",
            "linecolor": "white",
            "ticks": ""
           }
          },
          "scene": {
           "xaxis": {
            "backgroundcolor": "#E5ECF6",
            "gridcolor": "white",
            "gridwidth": 2,
            "linecolor": "white",
            "showbackground": true,
            "ticks": "",
            "zerolinecolor": "white"
           },
           "yaxis": {
            "backgroundcolor": "#E5ECF6",
            "gridcolor": "white",
            "gridwidth": 2,
            "linecolor": "white",
            "showbackground": true,
            "ticks": "",
            "zerolinecolor": "white"
           },
           "zaxis": {
            "backgroundcolor": "#E5ECF6",
            "gridcolor": "white",
            "gridwidth": 2,
            "linecolor": "white",
            "showbackground": true,
            "ticks": "",
            "zerolinecolor": "white"
           }
          },
          "shapedefaults": {
           "line": {
            "color": "#2a3f5f"
           }
          },
          "ternary": {
           "aaxis": {
            "gridcolor": "white",
            "linecolor": "white",
            "ticks": ""
           },
           "baxis": {
            "gridcolor": "white",
            "linecolor": "white",
            "ticks": ""
           },
           "bgcolor": "#E5ECF6",
           "caxis": {
            "gridcolor": "white",
            "linecolor": "white",
            "ticks": ""
           }
          },
          "title": {
           "x": 0.05
          },
          "xaxis": {
           "automargin": true,
           "gridcolor": "white",
           "linecolor": "white",
           "ticks": "",
           "title": {
            "standoff": 15
           },
           "zerolinecolor": "white",
           "zerolinewidth": 2
          },
          "yaxis": {
           "automargin": true,
           "gridcolor": "white",
           "linecolor": "white",
           "ticks": "",
           "title": {
            "standoff": 15
           },
           "zerolinecolor": "white",
           "zerolinewidth": 2
          }
         }
        },
        "title": {
         "text": "Geographical Chart with Pincodes"
        }
       }
      }
     },
     "metadata": {},
     "output_type": "display_data"
    }
   ],
   "source": [
    "fig = px.scatter_geo(\n",
    "    data, \n",
    "    lat='latitude', \n",
    "    lon='longitude', \n",
    "    text='Pin code', \n",
    "    title='Geographical Chart with Pincodes'\n",
    ")\n",
    "\n",
    "# Show the plot\n",
    "fig.show()"
   ]
  },
  {
   "cell_type": "code",
   "execution_count": null,
   "metadata": {},
   "outputs": [],
   "source": []
  },
  {
   "cell_type": "code",
   "execution_count": 14,
   "metadata": {},
   "outputs": [
    {
     "data": {
      "image/png": "[encoded data removed]",
      "text/plain": [
       "<Figure size 800x400 with 1 Axes>"
      ]
     },
     "metadata": {},
     "output_type": "display_data"
    }
   ],
   "source": [
    "data['Feedback'] = data['Feedback'].str.strip()\n",
    "\n",
    "feedback_palette = {'Positive': '#66ff66', 'Negative': '#ff6666'}\n",
    "\n",
    "plt.figure(figsize=(8, 4), dpi=100)\n",
    "ax = sns.countplot(x='Feedback', data=data, hue='Feedback', palette=feedback_palette, dodge=False)\n",
    "\n",
    "total = len(data)\n",
    "for p in ax.patches:\n",
    "    height = p.get_height()\n",
    "    percentage = (height / total) * 100\n",
    "    ax.annotate(f'{percentage:.2f}%', (p.get_x() + p.get_width() / 2., height / 2),\n",
    "                ha='center', va='center', fontsize=12, color='black')\n",
    "\n",
    "plt.title(\"Feedback - Distribution\")\n",
    "plt.ylabel(\"Count\")\n",
    "plt.xlabel(\"Feedback\")\n",
    "plt.show()"
   ]
  },
  {
   "cell_type": "markdown",
   "metadata": {},
   "source": [
    "DATA PREPROSESSING"
   ]
  },
  {
   "cell_type": "markdown",
   "metadata": {},
   "source": [
    " Make Ordinal Columns Numerical"
   ]
  },
  {
   "cell_type": "code",
   "execution_count": 15,
   "metadata": {},
   "outputs": [
    {
     "data": {
      "text/html": [
       "<div>\n",
       "<style scoped>\n",
       "    .dataframe tbody tr th:only-of-type {\n",
       "        vertical-align: middle;\n",
       "    }\n",
       "\n",
       "    .dataframe tbody tr th {\n",
       "        vertical-align: top;\n",
       "    }\n",
       "\n",
       "    .dataframe thead th {\n",
       "        text-align: right;\n",
       "    }\n",
       "</style>\n",
       "<table border=\"1\" class=\"dataframe\">\n",
       "  <thead>\n",
       "    <tr style=\"text-align: right;\">\n",
       "      <th></th>\n",
       "      <th>Age</th>\n",
       "      <th>Gender</th>\n",
       "      <th>Marital Status</th>\n",
       "      <th>Occupation</th>\n",
       "      <th>Family size</th>\n",
       "      <th>latitude</th>\n",
       "      <th>longitude</th>\n",
       "      <th>Pin code</th>\n",
       "      <th>Feedback</th>\n",
       "      <th>Monthly Income Ordinal</th>\n",
       "      <th>Educational Qualifications Ordinal</th>\n",
       "    </tr>\n",
       "  </thead>\n",
       "  <tbody>\n",
       "    <tr>\n",
       "      <th>0</th>\n",
       "      <td>20</td>\n",
       "      <td>Female</td>\n",
       "      <td>Single</td>\n",
       "      <td>Student</td>\n",
       "      <td>4</td>\n",
       "      <td>12.9766</td>\n",
       "      <td>77.5993</td>\n",
       "      <td>560001</td>\n",
       "      <td>Positive</td>\n",
       "      <td>0</td>\n",
       "      <td>3</td>\n",
       "    </tr>\n",
       "    <tr>\n",
       "      <th>1</th>\n",
       "      <td>24</td>\n",
       "      <td>Female</td>\n",
       "      <td>Single</td>\n",
       "      <td>Student</td>\n",
       "      <td>3</td>\n",
       "      <td>12.9770</td>\n",
       "      <td>77.5773</td>\n",
       "      <td>560009</td>\n",
       "      <td>Positive</td>\n",
       "      <td>1</td>\n",
       "      <td>2</td>\n",
       "    </tr>\n",
       "    <tr>\n",
       "      <th>2</th>\n",
       "      <td>22</td>\n",
       "      <td>Male</td>\n",
       "      <td>Single</td>\n",
       "      <td>Student</td>\n",
       "      <td>3</td>\n",
       "      <td>12.9551</td>\n",
       "      <td>77.6593</td>\n",
       "      <td>560017</td>\n",
       "      <td>Negative</td>\n",
       "      <td>1</td>\n",
       "      <td>3</td>\n",
       "    </tr>\n",
       "    <tr>\n",
       "      <th>3</th>\n",
       "      <td>22</td>\n",
       "      <td>Female</td>\n",
       "      <td>Single</td>\n",
       "      <td>Student</td>\n",
       "      <td>6</td>\n",
       "      <td>12.9473</td>\n",
       "      <td>77.5616</td>\n",
       "      <td>560019</td>\n",
       "      <td>Positive</td>\n",
       "      <td>0</td>\n",
       "      <td>2</td>\n",
       "    </tr>\n",
       "    <tr>\n",
       "      <th>4</th>\n",
       "      <td>22</td>\n",
       "      <td>Male</td>\n",
       "      <td>Single</td>\n",
       "      <td>Student</td>\n",
       "      <td>4</td>\n",
       "      <td>12.9850</td>\n",
       "      <td>77.5533</td>\n",
       "      <td>560010</td>\n",
       "      <td>Positive</td>\n",
       "      <td>1</td>\n",
       "      <td>3</td>\n",
       "    </tr>\n",
       "    <tr>\n",
       "      <th>5</th>\n",
       "      <td>27</td>\n",
       "      <td>Female</td>\n",
       "      <td>Married</td>\n",
       "      <td>Employee</td>\n",
       "      <td>2</td>\n",
       "      <td>12.9299</td>\n",
       "      <td>77.6848</td>\n",
       "      <td>560103</td>\n",
       "      <td>Positive</td>\n",
       "      <td>4</td>\n",
       "      <td>3</td>\n",
       "    </tr>\n",
       "    <tr>\n",
       "      <th>6</th>\n",
       "      <td>22</td>\n",
       "      <td>Male</td>\n",
       "      <td>Single</td>\n",
       "      <td>Student</td>\n",
       "      <td>3</td>\n",
       "      <td>12.9770</td>\n",
       "      <td>77.5773</td>\n",
       "      <td>560009</td>\n",
       "      <td>Positive</td>\n",
       "      <td>0</td>\n",
       "      <td>2</td>\n",
       "    </tr>\n",
       "    <tr>\n",
       "      <th>7</th>\n",
       "      <td>24</td>\n",
       "      <td>Female</td>\n",
       "      <td>Single</td>\n",
       "      <td>Student</td>\n",
       "      <td>3</td>\n",
       "      <td>12.9828</td>\n",
       "      <td>77.6131</td>\n",
       "      <td>560042</td>\n",
       "      <td>Positive</td>\n",
       "      <td>0</td>\n",
       "      <td>3</td>\n",
       "    </tr>\n",
       "    <tr>\n",
       "      <th>8</th>\n",
       "      <td>23</td>\n",
       "      <td>Female</td>\n",
       "      <td>Single</td>\n",
       "      <td>Student</td>\n",
       "      <td>2</td>\n",
       "      <td>12.9766</td>\n",
       "      <td>77.5993</td>\n",
       "      <td>560001</td>\n",
       "      <td>Positive</td>\n",
       "      <td>0</td>\n",
       "      <td>3</td>\n",
       "    </tr>\n",
       "    <tr>\n",
       "      <th>9</th>\n",
       "      <td>23</td>\n",
       "      <td>Female</td>\n",
       "      <td>Single</td>\n",
       "      <td>Student</td>\n",
       "      <td>4</td>\n",
       "      <td>12.9854</td>\n",
       "      <td>77.7081</td>\n",
       "      <td>560048</td>\n",
       "      <td>Positive</td>\n",
       "      <td>0</td>\n",
       "      <td>3</td>\n",
       "    </tr>\n",
       "  </tbody>\n",
       "</table>\n",
       "</div>"
      ],
      "text/plain": [
       "   Age  Gender Marital Status Occupation  Family size  latitude  longitude  \\\n",
       "0   20  Female         Single    Student            4   12.9766    77.5993   \n",
       "1   24  Female         Single    Student            3   12.9770    77.5773   \n",
       "2   22    Male         Single    Student            3   12.9551    77.6593   \n",
       "3   22  Female         Single    Student            6   12.9473    77.5616   \n",
       "4   22    Male         Single    Student            4   12.9850    77.5533   \n",
       "5   27  Female        Married   Employee            2   12.9299    77.6848   \n",
       "6   22    Male         Single    Student            3   12.9770    77.5773   \n",
       "7   24  Female         Single    Student            3   12.9828    77.6131   \n",
       "8   23  Female         Single    Student            2   12.9766    77.5993   \n",
       "9   23  Female         Single    Student            4   12.9854    77.7081   \n",
       "\n",
       "   Pin code  Feedback  Monthly Income Ordinal  \\\n",
       "0    560001  Positive                       0   \n",
       "1    560009  Positive                       1   \n",
       "2    560017  Negative                       1   \n",
       "3    560019  Positive                       0   \n",
       "4    560010  Positive                       1   \n",
       "5    560103  Positive                       4   \n",
       "6    560009  Positive                       0   \n",
       "7    560042  Positive                       0   \n",
       "8    560001  Positive                       0   \n",
       "9    560048  Positive                       0   \n",
       "\n",
       "   Educational Qualifications Ordinal  \n",
       "0                                   3  \n",
       "1                                   2  \n",
       "2                                   3  \n",
       "3                                   2  \n",
       "4                                   3  \n",
       "5                                   3  \n",
       "6                                   2  \n",
       "7                                   3  \n",
       "8                                   3  \n",
       "9                                   3  "
      ]
     },
     "execution_count": 15,
     "metadata": {},
     "output_type": "execute_result"
    }
   ],
   "source": [
    "income_order = [\n",
    "    'No Income', \n",
    "    'Below Rs.10000', \n",
    "    '10001 to 25000', \n",
    "    '25001 to 50000', \n",
    "    'More than 50000'\n",
    "]\n",
    "data['Monthly Income'] = pd.Categorical(data['Monthly Income'], categories=income_order, ordered=True)\n",
    "data['Monthly Income Ordinal'] = data['Monthly Income'].cat.codes\n",
    "data = data.drop('Monthly Income',axis=1)\n",
    "\n",
    "\n",
    "educational_order = [\n",
    "    'Uneducated', \n",
    "    'School', \n",
    "    'Graduate', \n",
    "    'Post Graduate', \n",
    "    'Ph.D'\n",
    "]\n",
    "\n",
    "data['Educational Qualifications'] = pd.Categorical(data['Educational Qualifications'], categories=educational_order, ordered=True)\n",
    "data['Educational Qualifications Ordinal'] = data['Educational Qualifications'].cat.codes\n",
    "data = data.drop('Educational Qualifications',axis=1)\n",
    "\n",
    "\n",
    "data.head(10)"
   ]
  },
  {
   "cell_type": "markdown",
   "metadata": {},
   "source": [
    " Make Nominal Columns Numerical"
   ]
  },
  {
   "cell_type": "code",
   "execution_count": 16,
   "metadata": {},
   "outputs": [
    {
     "data": {
      "text/html": [
       "<div>\n",
       "<style scoped>\n",
       "    .dataframe tbody tr th:only-of-type {\n",
       "        vertical-align: middle;\n",
       "    }\n",
       "\n",
       "    .dataframe tbody tr th {\n",
       "        vertical-align: top;\n",
       "    }\n",
       "\n",
       "    .dataframe thead th {\n",
       "        text-align: right;\n",
       "    }\n",
       "</style>\n",
       "<table border=\"1\" class=\"dataframe\">\n",
       "  <thead>\n",
       "    <tr style=\"text-align: right;\">\n",
       "      <th></th>\n",
       "      <th>Age</th>\n",
       "      <th>Gender</th>\n",
       "      <th>Family size</th>\n",
       "      <th>latitude</th>\n",
       "      <th>longitude</th>\n",
       "      <th>Pin code</th>\n",
       "      <th>Feedback</th>\n",
       "      <th>Monthly Income Ordinal</th>\n",
       "      <th>Educational Qualifications Ordinal</th>\n",
       "      <th>Occupation_Employee</th>\n",
       "      <th>Occupation_House wife</th>\n",
       "      <th>Occupation_Self Employeed</th>\n",
       "      <th>Occupation_Student</th>\n",
       "      <th>Marital Status_Married</th>\n",
       "      <th>Marital Status_Prefer not to say</th>\n",
       "      <th>Marital Status_Single</th>\n",
       "    </tr>\n",
       "  </thead>\n",
       "  <tbody>\n",
       "    <tr>\n",
       "      <th>0</th>\n",
       "      <td>20</td>\n",
       "      <td>0</td>\n",
       "      <td>4</td>\n",
       "      <td>12.9766</td>\n",
       "      <td>77.5993</td>\n",
       "      <td>560001</td>\n",
       "      <td>1</td>\n",
       "      <td>0</td>\n",
       "      <td>3</td>\n",
       "      <td>False</td>\n",
       "      <td>False</td>\n",
       "      <td>False</td>\n",
       "      <td>True</td>\n",
       "      <td>False</td>\n",
       "      <td>False</td>\n",
       "      <td>True</td>\n",
       "    </tr>\n",
       "    <tr>\n",
       "      <th>1</th>\n",
       "      <td>24</td>\n",
       "      <td>0</td>\n",
       "      <td>3</td>\n",
       "      <td>12.9770</td>\n",
       "      <td>77.5773</td>\n",
       "      <td>560009</td>\n",
       "      <td>1</td>\n",
       "      <td>1</td>\n",
       "      <td>2</td>\n",
       "      <td>False</td>\n",
       "      <td>False</td>\n",
       "      <td>False</td>\n",
       "      <td>True</td>\n",
       "      <td>False</td>\n",
       "      <td>False</td>\n",
       "      <td>True</td>\n",
       "    </tr>\n",
       "    <tr>\n",
       "      <th>2</th>\n",
       "      <td>22</td>\n",
       "      <td>1</td>\n",
       "      <td>3</td>\n",
       "      <td>12.9551</td>\n",
       "      <td>77.6593</td>\n",
       "      <td>560017</td>\n",
       "      <td>0</td>\n",
       "      <td>1</td>\n",
       "      <td>3</td>\n",
       "      <td>False</td>\n",
       "      <td>False</td>\n",
       "      <td>False</td>\n",
       "      <td>True</td>\n",
       "      <td>False</td>\n",
       "      <td>False</td>\n",
       "      <td>True</td>\n",
       "    </tr>\n",
       "    <tr>\n",
       "      <th>3</th>\n",
       "      <td>22</td>\n",
       "      <td>0</td>\n",
       "      <td>6</td>\n",
       "      <td>12.9473</td>\n",
       "      <td>77.5616</td>\n",
       "      <td>560019</td>\n",
       "      <td>1</td>\n",
       "      <td>0</td>\n",
       "      <td>2</td>\n",
       "      <td>False</td>\n",
       "      <td>False</td>\n",
       "      <td>False</td>\n",
       "      <td>True</td>\n",
       "      <td>False</td>\n",
       "      <td>False</td>\n",
       "      <td>True</td>\n",
       "    </tr>\n",
       "    <tr>\n",
       "      <th>4</th>\n",
       "      <td>22</td>\n",
       "      <td>1</td>\n",
       "      <td>4</td>\n",
       "      <td>12.9850</td>\n",
       "      <td>77.5533</td>\n",
       "      <td>560010</td>\n",
       "      <td>1</td>\n",
       "      <td>1</td>\n",
       "      <td>3</td>\n",
       "      <td>False</td>\n",
       "      <td>False</td>\n",
       "      <td>False</td>\n",
       "      <td>True</td>\n",
       "      <td>False</td>\n",
       "      <td>False</td>\n",
       "      <td>True</td>\n",
       "    </tr>\n",
       "    <tr>\n",
       "      <th>5</th>\n",
       "      <td>27</td>\n",
       "      <td>0</td>\n",
       "      <td>2</td>\n",
       "      <td>12.9299</td>\n",
       "      <td>77.6848</td>\n",
       "      <td>560103</td>\n",
       "      <td>1</td>\n",
       "      <td>4</td>\n",
       "      <td>3</td>\n",
       "      <td>True</td>\n",
       "      <td>False</td>\n",
       "      <td>False</td>\n",
       "      <td>False</td>\n",
       "      <td>True</td>\n",
       "      <td>False</td>\n",
       "      <td>False</td>\n",
       "    </tr>\n",
       "    <tr>\n",
       "      <th>6</th>\n",
       "      <td>22</td>\n",
       "      <td>1</td>\n",
       "      <td>3</td>\n",
       "      <td>12.9770</td>\n",
       "      <td>77.5773</td>\n",
       "      <td>560009</td>\n",
       "      <td>1</td>\n",
       "      <td>0</td>\n",
       "      <td>2</td>\n",
       "      <td>False</td>\n",
       "      <td>False</td>\n",
       "      <td>False</td>\n",
       "      <td>True</td>\n",
       "      <td>False</td>\n",
       "      <td>False</td>\n",
       "      <td>True</td>\n",
       "    </tr>\n",
       "    <tr>\n",
       "      <th>7</th>\n",
       "      <td>24</td>\n",
       "      <td>0</td>\n",
       "      <td>3</td>\n",
       "      <td>12.9828</td>\n",
       "      <td>77.6131</td>\n",
       "      <td>560042</td>\n",
       "      <td>1</td>\n",
       "      <td>0</td>\n",
       "      <td>3</td>\n",
       "      <td>False</td>\n",
       "      <td>False</td>\n",
       "      <td>False</td>\n",
       "      <td>True</td>\n",
       "      <td>False</td>\n",
       "      <td>False</td>\n",
       "      <td>True</td>\n",
       "    </tr>\n",
       "    <tr>\n",
       "      <th>8</th>\n",
       "      <td>23</td>\n",
       "      <td>0</td>\n",
       "      <td>2</td>\n",
       "      <td>12.9766</td>\n",
       "      <td>77.5993</td>\n",
       "      <td>560001</td>\n",
       "      <td>1</td>\n",
       "      <td>0</td>\n",
       "      <td>3</td>\n",
       "      <td>False</td>\n",
       "      <td>False</td>\n",
       "      <td>False</td>\n",
       "      <td>True</td>\n",
       "      <td>False</td>\n",
       "      <td>False</td>\n",
       "      <td>True</td>\n",
       "    </tr>\n",
       "    <tr>\n",
       "      <th>9</th>\n",
       "      <td>23</td>\n",
       "      <td>0</td>\n",
       "      <td>4</td>\n",
       "      <td>12.9854</td>\n",
       "      <td>77.7081</td>\n",
       "      <td>560048</td>\n",
       "      <td>1</td>\n",
       "      <td>0</td>\n",
       "      <td>3</td>\n",
       "      <td>False</td>\n",
       "      <td>False</td>\n",
       "      <td>False</td>\n",
       "      <td>True</td>\n",
       "      <td>False</td>\n",
       "      <td>False</td>\n",
       "      <td>True</td>\n",
       "    </tr>\n",
       "  </tbody>\n",
       "</table>\n",
       "</div>"
      ],
      "text/plain": [
       "   Age  Gender  Family size  latitude  longitude  Pin code  Feedback  \\\n",
       "0   20       0            4   12.9766    77.5993    560001         1   \n",
       "1   24       0            3   12.9770    77.5773    560009         1   \n",
       "2   22       1            3   12.9551    77.6593    560017         0   \n",
       "3   22       0            6   12.9473    77.5616    560019         1   \n",
       "4   22       1            4   12.9850    77.5533    560010         1   \n",
       "5   27       0            2   12.9299    77.6848    560103         1   \n",
       "6   22       1            3   12.9770    77.5773    560009         1   \n",
       "7   24       0            3   12.9828    77.6131    560042         1   \n",
       "8   23       0            2   12.9766    77.5993    560001         1   \n",
       "9   23       0            4   12.9854    77.7081    560048         1   \n",
       "\n",
       "   Monthly Income Ordinal  Educational Qualifications Ordinal  \\\n",
       "0                       0                                   3   \n",
       "1                       1                                   2   \n",
       "2                       1                                   3   \n",
       "3                       0                                   2   \n",
       "4                       1                                   3   \n",
       "5                       4                                   3   \n",
       "6                       0                                   2   \n",
       "7                       0                                   3   \n",
       "8                       0                                   3   \n",
       "9                       0                                   3   \n",
       "\n",
       "   Occupation_Employee  Occupation_House wife  Occupation_Self Employeed  \\\n",
       "0                False                  False                      False   \n",
       "1                False                  False                      False   \n",
       "2                False                  False                      False   \n",
       "3                False                  False                      False   \n",
       "4                False                  False                      False   \n",
       "5                 True                  False                      False   \n",
       "6                False                  False                      False   \n",
       "7                False                  False                      False   \n",
       "8                False                  False                      False   \n",
       "9                False                  False                      False   \n",
       "\n",
       "   Occupation_Student  Marital Status_Married  \\\n",
       "0                True                   False   \n",
       "1                True                   False   \n",
       "2                True                   False   \n",
       "3                True                   False   \n",
       "4                True                   False   \n",
       "5               False                    True   \n",
       "6                True                   False   \n",
       "7                True                   False   \n",
       "8                True                   False   \n",
       "9                True                   False   \n",
       "\n",
       "   Marital Status_Prefer not to say  Marital Status_Single  \n",
       "0                             False                   True  \n",
       "1                             False                   True  \n",
       "2                             False                   True  \n",
       "3                             False                   True  \n",
       "4                             False                   True  \n",
       "5                             False                  False  \n",
       "6                             False                   True  \n",
       "7                             False                   True  \n",
       "8                             False                   True  \n",
       "9                             False                   True  "
      ]
     },
     "execution_count": 16,
     "metadata": {},
     "output_type": "execute_result"
    }
   ],
   "source": [
    "data['Gender'], Gender_uniques = pd.factorize(data['Gender'])\n",
    "data['Feedback'] = np.where(data['Feedback'] == 'Positive', 1, 0)\n",
    "\n",
    "\n",
    "data = pd.get_dummies(data, columns=['Occupation'])\n",
    "data = pd.get_dummies(data, columns=['Marital Status'])\n",
    "\n",
    "data.head(10)"
   ]
  },
  {
   "cell_type": "markdown",
   "metadata": {},
   "source": [
    "TRAIN AND TEST MODELS"
   ]
  },
  {
   "cell_type": "markdown",
   "metadata": {},
   "source": [
    "DT - Gini"
   ]
  },
  {
   "cell_type": "code",
   "execution_count": 17,
   "metadata": {},
   "outputs": [
    {
     "name": "stdout",
     "output_type": "stream",
     "text": [
      "Best parameters from cross-validation:\n",
      "{'max_depth': 3, 'min_samples_leaf': 3}\n",
      "\n",
      "Best cross-validation score:\n",
      "0.8065\n",
      "\n",
      "Cross-validation scores for each fold:\n",
      "Fold 1: 0.8065\n",
      "Fold 2: 0.7903\n",
      "Fold 3: 0.8387\n",
      "Fold 4: 0.7903\n",
      "Fold 5: 0.8065\n",
      "\n",
      "Mean cross-validation accuracy:\n",
      "0.8065\n",
      "------------------------------\n",
      "\n",
      "Test Metrics:\n",
      "DTree (Gini) Accuracy: 0.7692\n",
      "DTree (Gini) Precision: 0.5237\n",
      "DTree (Gini) Recall: 0.5237\n",
      "DTree (Gini) F1-Score: 0.5237\n"
     ]
    },
    {
     "data": {
      "image/png": "[encoded data removed]",
      "text/plain": [
       "<Figure size 2000x1000 with 1 Axes>"
      ]
     },
     "metadata": {},
     "output_type": "display_data"
    }
   ],
   "source": [
    "# Split data into features and labels\n",
    "X = data.drop('Feedback', axis=1).values \n",
    "y = data['Feedback'].values  \n",
    "\n",
    "# Split into training and testing sets\n",
    "X_train_full, X_test, y_train_full, y_test = train_test_split(X, y, test_size=0.2, random_state=42)\n",
    "\n",
    "# Standardize the data\n",
    "scaler = StandardScaler()\n",
    "X_train_full_scaled = scaler.fit_transform(X_train_full)\n",
    "X_test_scaled = scaler.transform(X_test)\n",
    "\n",
    "# Set up parameters for grid search\n",
    "params = {\n",
    "    'max_depth': [2, 3, 4, 5],\n",
    "    'min_samples_leaf': [2, 3, 4]\n",
    "}\n",
    "\n",
    "# Initialize classifier\n",
    "clf = DecisionTreeClassifier()\n",
    "\n",
    "# Set up cross-validation scheme\n",
    "skf = StratifiedKFold(n_splits=5, shuffle=True, random_state=42)\n",
    "\n",
    "# Perform grid search\n",
    "grid_search = GridSearchCV(clf, params, cv=skf, scoring='accuracy', n_jobs=-1)\n",
    "grid_search.fit(X_train_full_scaled, y_train_full)\n",
    "\n",
    "# Print best parameters and cross-validation score\n",
    "print(\"Best parameters from cross-validation:\")\n",
    "print(grid_search.best_params_)\n",
    "print(\"\\nBest cross-validation score:\")\n",
    "print(f\"{grid_search.best_score_:.4f}\")\n",
    "\n",
    "# Best estimator from grid search\n",
    "best_clf = grid_search.best_estimator_\n",
    "\n",
    "# Cross-validation scores for the best estimator\n",
    "fold_accuracies = cross_val_score(best_clf, X_train_full_scaled, y_train_full, cv=skf)\n",
    "print(\"\\nCross-validation scores for each fold:\")\n",
    "for i, score in enumerate(fold_accuracies, 1):\n",
    "    print(f\"Fold {i}: {score:.4f}\")\n",
    "print(f\"\\nMean cross-validation accuracy:\\n{fold_accuracies.mean():.4f}\")\n",
    "\n",
    "# Dashed line for separation\n",
    "print(\"-\" * 30)\n",
    "\n",
    "# Predictions on test set\n",
    "y_pred = best_clf.predict(X_test_scaled)\n",
    "\n",
    "# Calculate and print test metrics\n",
    "print(\"\\nTest Metrics:\")\n",
    "test_accuracy = accuracy_score(y_test, y_pred)\n",
    "test_precision = precision_score(y_test, y_pred, average='macro')\n",
    "test_recall = recall_score(y_test, y_pred, average='macro')\n",
    "test_f1 = f1_score(y_test, y_pred, average='macro')\n",
    "\n",
    "print(f\"DTree (Gini) Accuracy: {test_accuracy:.4f}\")\n",
    "print(f\"DTree (Gini) Precision: {test_precision:.4f}\")\n",
    "print(f\"DTree (Gini) Recall: {test_recall:.4f}\")\n",
    "print(f\"DTree (Gini) F1-Score: {test_f1:.4f}\")\n",
    "\n",
    "# Plot the decision tree\n",
    "plt.figure(figsize=(20, 10))\n",
    "plot_tree(best_clf, filled=True, feature_names=data.drop('Feedback', axis=1).columns, \n",
    "          class_names=[str(cls) for cls in best_clf.classes_], impurity=True)\n",
    "plt.title(f\"Decision Tree (Criterion: {best_clf.criterion})\")\n",
    "plt.show()\n",
    "\n"
   ]
  },
  {
   "cell_type": "markdown",
   "metadata": {},
   "source": [
    "DT - Entropy"
   ]
  },
  {
   "cell_type": "code",
   "execution_count": 18,
   "metadata": {},
   "outputs": [
    {
     "name": "stdout",
     "output_type": "stream",
     "text": [
      "DTree (Entropy) Accuracy: 0.8205\n",
      "DTree (Entropy) Precision: 0.6087\n",
      "DTree (Entropy) Recall: 0.5916\n",
      "DTree (Entropy) F1-Score: 0.5985\n"
     ]
    },
    {
     "data": {
      "image/png": "[encoded data removed]",
      "text/plain": [
       "<Figure size 2000x1000 with 1 Axes>"
      ]
     },
     "metadata": {},
     "output_type": "display_data"
    }
   ],
   "source": [
    "import matplotlib.pyplot as plt\n",
    "from sklearn.tree import DecisionTreeClassifier, plot_tree\n",
    "from sklearn.model_selection import train_test_split\n",
    "from sklearn.preprocessing import StandardScaler\n",
    "from sklearn.metrics import accuracy_score, precision_score, recall_score, f1_score\n",
    "\n",
    "# Split data into features and labels\n",
    "X = data.drop('Feedback', axis=1).values \n",
    "y = data['Feedback'].values  \n",
    "\n",
    "# Split into training and testing sets\n",
    "X_train, X_test, y_train, y_test = train_test_split(X, y, test_size=0.2, random_state=42)\n",
    "\n",
    "# Standardize the data\n",
    "scaler = StandardScaler()\n",
    "X_train_scaled = scaler.fit_transform(X_train)\n",
    "X_test_scaled = scaler.transform(X_test)\n",
    "\n",
    "# Initialize the Decision Tree classifier with Entropy criterion\n",
    "clf = DecisionTreeClassifier(criterion='entropy', max_depth=4, min_samples_leaf=2)  # Set max_depth and min_samples_leaf as desired\n",
    "\n",
    "# Train the model on the training set\n",
    "clf.fit(X_train_scaled, y_train)\n",
    "\n",
    "# Predictions on the test set\n",
    "y_pred = clf.predict(X_test_scaled)\n",
    "\n",
    "# Calculate and print test metrics\n",
    "test_accuracy = accuracy_score(y_test, y_pred)\n",
    "test_precision = precision_score(y_test, y_pred, average='macro')\n",
    "test_recall = recall_score(y_test, y_pred, average='macro')\n",
    "test_f1 = f1_score(y_test, y_pred, average='macro')\n",
    "\n",
    "print(f\"DTree (Entropy) Accuracy: {test_accuracy:.4f}\")\n",
    "print(f\"DTree (Entropy) Precision: {test_precision:.4f}\")\n",
    "print(f\"DTree (Entropy) Recall: {test_recall:.4f}\")\n",
    "print(f\"DTree (Entropy) F1-Score: {test_f1:.4f}\")\n",
    "\n",
    "# Plot the decision tree\n",
    "plt.figure(figsize=(20, 10))\n",
    "plot_tree(clf, filled=True, feature_names=data.drop('Feedback', axis=1).columns, \n",
    "          class_names=[str(cls) for cls in clf.classes_], \n",
    "          impurity=True)  # impurity=True to show the Entropy criterion\n",
    "plt.title(\"Decision Tree (Criterion: Entropy)\")\n",
    "plt.show()\n"
   ]
  },
  {
   "cell_type": "markdown",
   "metadata": {},
   "source": [
    "DT - Information Gain"
   ]
  },
  {
   "cell_type": "code",
   "execution_count": 19,
   "metadata": {},
   "outputs": [
    {
     "name": "stdout",
     "output_type": "stream",
     "text": [
      "DTree (Information Gain) Accuracy: 0.7308\n",
      "DTree (Information Gain) Precision: 0.6088\n",
      "DTree (Information Gain) Recall: 0.6913\n",
      "DTree (Information Gain) F1-Score: 0.6132\n"
     ]
    }
   ],
   "source": [
    "def entropy(y):\n",
    "    class_counts = Counter(y)\n",
    "    total_count = len(y)\n",
    "    entropy_value = 0\n",
    "    for count in class_counts.values():\n",
    "        prob = count / total_count\n",
    "        entropy_value -= prob * np.log2(prob)\n",
    "    return entropy_value\n",
    "\n",
    "def information_gain(X, y, feature_index):\n",
    "    total_entropy = entropy(y)\n",
    "    values = np.unique(X[:, feature_index])\n",
    "    weighted_entropy = 0\n",
    "    for value in values:\n",
    "        subset_y = y[X[:, feature_index] == value]\n",
    "        weighted_entropy += len(subset_y) / len(y) * entropy(subset_y)\n",
    "    return total_entropy - weighted_entropy\n",
    "\n",
    "def best_split(X, y):\n",
    "    best_gain = -1\n",
    "    best_feature = -1\n",
    "    for feature_index in range(X.shape[1]):\n",
    "        gain = information_gain(X, y, feature_index)\n",
    "        if gain > best_gain:\n",
    "            best_gain = gain\n",
    "            best_feature = feature_index\n",
    "    return best_feature\n",
    "\n",
    "class ID3DecisionTree:\n",
    "    def __init__(self, max_depth=None):\n",
    "        self.max_depth = max_depth\n",
    "        self.tree = None\n",
    "        self.feature_names = None\n",
    "\n",
    "    def fit(self, X, y, feature_names, depth=0):\n",
    "        self.feature_names = feature_names\n",
    "        if len(np.unique(y)) == 1:\n",
    "            return np.unique(y)[0]\n",
    "        \n",
    "        if self.max_depth is not None and depth >= self.max_depth:\n",
    "            return np.unique(y)[np.argmax(np.bincount(y))]\n",
    "\n",
    "        best_feature = best_split(X, y)\n",
    "        tree = {best_feature: {}}\n",
    "        \n",
    "        values = np.unique(X[:, best_feature])\n",
    "        for value in values:\n",
    "            subset_X = X[X[:, best_feature] == value]\n",
    "            subset_y = y[X[:, best_feature] == value]\n",
    "            \n",
    "            if len(subset_y) == 0:\n",
    "                continue\n",
    "            \n",
    "            tree[best_feature][value] = self.fit(subset_X, subset_y, feature_names, depth + 1)\n",
    "        \n",
    "        self.tree = tree\n",
    "        return tree\n",
    "    \n",
    "    def predict(self, X):\n",
    "        return [self._predict_one(sample) for sample in X]\n",
    "    \n",
    "    def _predict_one(self, sample):\n",
    "        tree = self.tree\n",
    "        while isinstance(tree, dict):\n",
    "            feature = list(tree.keys())[0]\n",
    "            value = sample[feature]\n",
    "            tree = tree[feature].get(value, None)\n",
    "        return tree if tree is not None else 0\n",
    "\n",
    "X = data.drop('Feedback', axis=1).values\n",
    "y = data['Feedback'].values\n",
    "\n",
    "X_train, X_test, y_train, y_test = train_test_split(X, y, test_size=0.2, random_state=42)\n",
    "\n",
    "scaler = StandardScaler()\n",
    "X_train_scaled = scaler.fit_transform(X_train)\n",
    "X_test_scaled = scaler.transform(X_test)\n",
    "\n",
    "model = ID3DecisionTree(max_depth=4)\n",
    "\n",
    "model.fit(X_train_scaled, y_train, feature_names=data.drop('Feedback', axis=1).columns)\n",
    "\n",
    "y_pred = model.predict(X_test_scaled)\n",
    "\n",
    "test_accuracy = accuracy_score(y_test, y_pred)\n",
    "test_precision = precision_score(y_test, y_pred, average='macro')\n",
    "test_recall = recall_score(y_test, y_pred, average='macro')\n",
    "test_f1 = f1_score(y_test, y_pred, average='macro')\n",
    "\n",
    "print(f\"DTree (Information Gain) Accuracy: {test_accuracy:.4f}\")\n",
    "print(f\"DTree (Information Gain) Precision: {test_precision:.4f}\")\n",
    "print(f\"DTree (Information Gain) Recall: {test_recall:.4f}\")\n",
    "print(f\"DTree (Information Gain) F1-Score: {test_f1:.4f}\")\n"
   ]
  },
  {
   "cell_type": "markdown",
   "metadata": {},
   "source": [
    "NB"
   ]
  },
  {
   "cell_type": "code",
   "execution_count": 20,
   "metadata": {},
   "outputs": [
    {
     "name": "stdout",
     "output_type": "stream",
     "text": [
      "NB Accuracy: 0.8077\n",
      "NB Precision: 0.6136\n",
      "NB Recall: 0.6221\n",
      "NB F1-Score: 0.6175\n"
     ]
    }
   ],
   "source": [
    "X = data.drop('Feedback', axis=1).values\n",
    "y = data['Feedback'].values\n",
    "X_train, X_test, y_train, y_test = train_test_split(X, y, test_size=0.2, random_state=42)\n",
    "\n",
    "scaler = StandardScaler()\n",
    "X_train_scaled = scaler.fit_transform(X_train)\n",
    "X_test_scaled = scaler.transform(X_test)\n",
    "\n",
    "clf = GaussianNB()\n",
    "clf.fit(X_train_scaled, y_train)\n",
    "\n",
    "y_pred = clf.predict(X_test_scaled)\n",
    "\n",
    "accuracy = accuracy_score(y_test, y_pred)\n",
    "precision = precision_score(y_test, y_pred, average='macro')\n",
    "recall = recall_score(y_test, y_pred, average='macro')\n",
    "f1 = f1_score(y_test, y_pred, average='macro')\n",
    "\n",
    "print(f\"NB Accuracy: {accuracy:.4f}\")\n",
    "print(f\"NB Precision: {precision:.4f}\")\n",
    "print(f\"NB Recall: {recall:.4f}\")\n",
    "print(f\"NB F1-Score: {f1:.4f}\")"
   ]
  },
  {
   "cell_type": "markdown",
   "metadata": {},
   "source": [
    "Rull-Based"
   ]
  },
  {
   "cell_type": "code",
   "execution_count": 21,
   "metadata": {},
   "outputs": [
    {
     "name": "stdout",
     "output_type": "stream",
     "text": [
      "RB Accuracy: 0.7564102564102564\n",
      "RB Precision: 0.5685483870967742\n",
      "RB Recall: 0.5922659430122117\n",
      "RB F1-Score: 0.5745047372954349\n",
      "-------------------------------------------------------------------\n",
      "Rules:\n",
      "|--- Age <= 25.50\n",
      "|   |--- latitude <= 12.95\n",
      "|   |   |--- class: 1\n",
      "|   |--- latitude >  12.95\n",
      "|   |   |--- latitude <= 12.96\n",
      "|   |   |   |--- Occupation_Student <= 0.50\n",
      "|   |   |   |   |--- Marital Status_Married <= 0.50\n",
      "|   |   |   |   |   |--- class: 1\n",
      "|   |   |   |   |--- Marital Status_Married >  0.50\n",
      "|   |   |   |   |   |--- class: 0\n",
      "|   |   |   |--- Occupation_Student >  0.50\n",
      "|   |   |   |   |--- class: 0\n",
      "|   |   |--- latitude >  12.96\n",
      "|   |   |   |--- Age <= 21.50\n",
      "|   |   |   |   |--- Family size <= 3.50\n",
      "|   |   |   |   |   |--- Gender <= 0.50\n",
      "|   |   |   |   |   |   |--- class: 1\n",
      "|   |   |   |   |   |--- Gender >  0.50\n",
      "|   |   |   |   |   |   |--- Pin code <= 560032.00\n",
      "|   |   |   |   |   |   |   |--- class: 0\n",
      "|   |   |   |   |   |   |--- Pin code >  560032.00\n",
      "|   |   |   |   |   |   |   |--- Pin code <= 560069.00\n",
      "|   |   |   |   |   |   |   |   |--- class: 0\n",
      "|   |   |   |   |   |   |   |--- Pin code >  560069.00\n",
      "|   |   |   |   |   |   |   |   |--- class: 0\n",
      "|   |   |   |   |--- Family size >  3.50\n",
      "|   |   |   |   |   |--- class: 1\n",
      "|   |   |   |--- Age >  21.50\n",
      "|   |   |   |   |--- Marital Status_Prefer not to say <= 0.50\n",
      "|   |   |   |   |   |--- Age <= 22.50\n",
      "|   |   |   |   |   |   |--- class: 1\n",
      "|   |   |   |   |   |--- Age >  22.50\n",
      "|   |   |   |   |   |   |--- Age <= 24.50\n",
      "|   |   |   |   |   |   |   |--- Occupation_Self Employeed <= 0.50\n",
      "|   |   |   |   |   |   |   |   |--- Pin code <= 560019.50\n",
      "|   |   |   |   |   |   |   |   |   |--- longitude <= 77.61\n",
      "|   |   |   |   |   |   |   |   |   |   |--- Pin code <= 560012.00\n",
      "|   |   |   |   |   |   |   |   |   |   |   |--- truncated branch of depth 5\n",
      "|   |   |   |   |   |   |   |   |   |   |--- Pin code >  560012.00\n",
      "|   |   |   |   |   |   |   |   |   |   |   |--- truncated branch of depth 2\n",
      "|   |   |   |   |   |   |   |   |   |--- longitude >  77.61\n",
      "|   |   |   |   |   |   |   |   |   |   |--- class: 0\n",
      "|   |   |   |   |   |   |   |   |--- Pin code >  560019.50\n",
      "|   |   |   |   |   |   |   |   |   |--- latitude <= 13.03\n",
      "|   |   |   |   |   |   |   |   |   |   |--- class: 1\n",
      "|   |   |   |   |   |   |   |   |   |--- latitude >  13.03\n",
      "|   |   |   |   |   |   |   |   |   |   |--- Family size <= 2.50\n",
      "|   |   |   |   |   |   |   |   |   |   |   |--- class: 0\n",
      "|   |   |   |   |   |   |   |   |   |   |--- Family size >  2.50\n",
      "|   |   |   |   |   |   |   |   |   |   |   |--- truncated branch of depth 3\n",
      "|   |   |   |   |   |   |   |--- Occupation_Self Employeed >  0.50\n",
      "|   |   |   |   |   |   |   |   |--- Educational Qualifications Ordinal <= 2.50\n",
      "|   |   |   |   |   |   |   |   |   |--- class: 1\n",
      "|   |   |   |   |   |   |   |   |--- Educational Qualifications Ordinal >  2.50\n",
      "|   |   |   |   |   |   |   |   |   |--- class: 0\n",
      "|   |   |   |   |   |   |--- Age >  24.50\n",
      "|   |   |   |   |   |   |   |--- Family size <= 1.50\n",
      "|   |   |   |   |   |   |   |   |--- Marital Status_Married <= 0.50\n",
      "|   |   |   |   |   |   |   |   |   |--- class: 1\n",
      "|   |   |   |   |   |   |   |   |--- Marital Status_Married >  0.50\n",
      "|   |   |   |   |   |   |   |   |   |--- class: 0\n",
      "|   |   |   |   |   |   |   |--- Family size >  1.50\n",
      "|   |   |   |   |   |   |   |   |--- class: 1\n",
      "|   |   |   |   |--- Marital Status_Prefer not to say >  0.50\n",
      "|   |   |   |   |   |--- Occupation_Self Employeed <= 0.50\n",
      "|   |   |   |   |   |   |--- class: 0\n",
      "|   |   |   |   |   |--- Occupation_Self Employeed >  0.50\n",
      "|   |   |   |   |   |   |--- class: 1\n",
      "|--- Age >  25.50\n",
      "|   |--- latitude <= 13.05\n",
      "|   |   |--- Monthly Income Ordinal <= 2.50\n",
      "|   |   |   |--- Occupation_Employee <= 0.50\n",
      "|   |   |   |   |--- longitude <= 77.62\n",
      "|   |   |   |   |   |--- latitude <= 13.02\n",
      "|   |   |   |   |   |   |--- class: 1\n",
      "|   |   |   |   |   |--- latitude >  13.02\n",
      "|   |   |   |   |   |   |--- class: 0\n",
      "|   |   |   |   |--- longitude >  77.62\n",
      "|   |   |   |   |   |--- Educational Qualifications Ordinal <= 3.00\n",
      "|   |   |   |   |   |   |--- class: 0\n",
      "|   |   |   |   |   |--- Educational Qualifications Ordinal >  3.00\n",
      "|   |   |   |   |   |   |--- class: 1\n",
      "|   |   |   |--- Occupation_Employee >  0.50\n",
      "|   |   |   |   |--- longitude <= 77.49\n",
      "|   |   |   |   |   |--- class: 1\n",
      "|   |   |   |   |--- longitude >  77.49\n",
      "|   |   |   |   |   |--- class: 0\n",
      "|   |   |--- Monthly Income Ordinal >  2.50\n",
      "|   |   |   |--- Pin code <= 560073.50\n",
      "|   |   |   |   |--- longitude <= 77.53\n",
      "|   |   |   |   |   |--- class: 0\n",
      "|   |   |   |   |--- longitude >  77.53\n",
      "|   |   |   |   |   |--- Educational Qualifications Ordinal <= 3.50\n",
      "|   |   |   |   |   |   |--- Pin code <= 560005.50\n",
      "|   |   |   |   |   |   |   |--- class: 1\n",
      "|   |   |   |   |   |   |--- Pin code >  560005.50\n",
      "|   |   |   |   |   |   |   |--- Pin code <= 560035.00\n",
      "|   |   |   |   |   |   |   |   |--- latitude <= 13.01\n",
      "|   |   |   |   |   |   |   |   |   |--- longitude <= 77.63\n",
      "|   |   |   |   |   |   |   |   |   |   |--- Age <= 31.00\n",
      "|   |   |   |   |   |   |   |   |   |   |   |--- truncated branch of depth 4\n",
      "|   |   |   |   |   |   |   |   |   |   |--- Age >  31.00\n",
      "|   |   |   |   |   |   |   |   |   |   |   |--- class: 1\n",
      "|   |   |   |   |   |   |   |   |   |--- longitude >  77.63\n",
      "|   |   |   |   |   |   |   |   |   |   |--- class: 1\n",
      "|   |   |   |   |   |   |   |   |--- latitude >  13.01\n",
      "|   |   |   |   |   |   |   |   |   |--- class: 1\n",
      "|   |   |   |   |   |   |   |--- Pin code >  560035.00\n",
      "|   |   |   |   |   |   |   |   |--- Family size <= 5.50\n",
      "|   |   |   |   |   |   |   |   |   |--- Age <= 28.50\n",
      "|   |   |   |   |   |   |   |   |   |   |--- class: 1\n",
      "|   |   |   |   |   |   |   |   |   |--- Age >  28.50\n",
      "|   |   |   |   |   |   |   |   |   |   |--- Gender <= 0.50\n",
      "|   |   |   |   |   |   |   |   |   |   |   |--- class: 0\n",
      "|   |   |   |   |   |   |   |   |   |   |--- Gender >  0.50\n",
      "|   |   |   |   |   |   |   |   |   |   |   |--- class: 1\n",
      "|   |   |   |   |   |   |   |   |--- Family size >  5.50\n",
      "|   |   |   |   |   |   |   |   |   |--- Occupation_Self Employeed <= 0.50\n",
      "|   |   |   |   |   |   |   |   |   |   |--- class: 0\n",
      "|   |   |   |   |   |   |   |   |   |--- Occupation_Self Employeed >  0.50\n",
      "|   |   |   |   |   |   |   |   |   |   |--- Pin code <= 560054.00\n",
      "|   |   |   |   |   |   |   |   |   |   |   |--- class: 1\n",
      "|   |   |   |   |   |   |   |   |   |   |--- Pin code >  560054.00\n",
      "|   |   |   |   |   |   |   |   |   |   |   |--- class: 1\n",
      "|   |   |   |   |   |--- Educational Qualifications Ordinal >  3.50\n",
      "|   |   |   |   |   |   |--- Gender <= 0.50\n",
      "|   |   |   |   |   |   |   |--- class: 1\n",
      "|   |   |   |   |   |   |--- Gender >  0.50\n",
      "|   |   |   |   |   |   |   |--- class: 0\n",
      "|   |   |   |--- Pin code >  560073.50\n",
      "|   |   |   |   |--- class: 1\n",
      "|   |--- latitude >  13.05\n",
      "|   |   |--- longitude <= 77.55\n",
      "|   |   |   |--- class: 1\n",
      "|   |   |--- longitude >  77.55\n",
      "|   |   |   |--- class: 0\n",
      "\n"
     ]
    }
   ],
   "source": [
    "# بارگذاری دادهها\n",
    "X = data.drop('Feedback', axis=1)\n",
    "y = data['Feedback']\n",
    "X_train, X_test, y_train, y_test = train_test_split(X, y, test_size=0.2, random_state=42)\n",
    "\n",
    "# آموزش مدل درخت تصمیم\n",
    "model = DecisionTreeClassifier()\n",
    "model.fit(X_train, y_train)\n",
    "\n",
    "# پیشبینی\n",
    "y_pred = model.predict(X_test)\n",
    "\n",
    "# محاسبه معیارها\n",
    "accuracy = accuracy_score(y_test, y_pred)\n",
    "precision = precision_score(y_test, y_pred, average='macro')\n",
    "recall = recall_score(y_test, y_pred, average='macro')\n",
    "f1 = f1_score(y_test, y_pred, average='macro')\n",
    "\n",
    "# نمایش قوانین\n",
    "rules = export_text(model, feature_names=list(X.columns))\n",
    "\n",
    "print(f\"RB Accuracy: {accuracy}\")\n",
    "print(f\"RB Precision: {precision}\")\n",
    "print(f\"RB Recall: {recall}\")\n",
    "print(f\"RB F1-Score: {f1}\")\n",
    "print(\"-------------------------------------------------------------------\")\n",
    "print(\"Rules:\")\n",
    "print(rules)"
   ]
  }
 ],
 "metadata": {
  "kernelspec": {
   "display_name": "Python 3",
   "language": "python",
   "name": "python3"
  },
  "language_info": {
   "codemirror_mode": {
    "name": "ipython",
    "version": 3
   },
   "file_extension": ".py",
   "mimetype": "text/x-python",
   "name": "python",
   "nbconvert_exporter": "python",
   "pygments_lexer": "ipython3",
   "version": "3.12.3"
  }
 },
 "nbformat": 4,
 "nbformat_minor": 2
}
