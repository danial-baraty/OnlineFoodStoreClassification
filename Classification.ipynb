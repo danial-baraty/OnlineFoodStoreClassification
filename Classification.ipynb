{
 "cells": [
  {
   "cell_type": "code",
   "execution_count": null,
   "metadata": {},
   "outputs": [],
   "source": [
    "import pandas as pd\n",
    "from sklearn.preprocessing import OneHotEncoder\n",
    "import matplotlib.pyplot as plt\n",
    "import seaborn as sns\n",
    "import numpy as np\n",
    "import plotly.express as px\n",
    "from imodels import RuleFitClassifier\n",
    "from sklearn.model_selection import StratifiedKFold\n",
    "from sklearn.metrics import precision_score, recall_score, f1_score, accuracy_score\n",
    "from sklearn.model_selection import train_test_split, StratifiedKFold, GridSearchCV\n",
    "from sklearn.preprocessing import StandardScaler\n",
    "from sklearn.tree import DecisionTreeClassifier\n",
    "from sklearn.naive_bayes import GaussianNB\n",
    "from sklearn.model_selection import cross_val_score\n",
    "from rulefit import RuleFit\n",
    "import warnings\n",
    "warnings.filterwarnings(\"ignore\")\n",
    "\n"
   ]
  },
  {
   "cell_type": "markdown",
   "metadata": {},
   "source": [
    "DATA OVERVIEW"
   ]
  },
  {
   "cell_type": "code",
   "execution_count": null,
   "metadata": {},
   "outputs": [],
   "source": [
    "data = pd.read_csv('onlinefoods.csv')\n",
    "data = data.drop('Unnamed: 12',axis=1)\n",
    "data = data.drop('Output',axis=1)\n",
    "\n",
    "data.head()"
   ]
  },
  {
   "cell_type": "code",
   "execution_count": null,
   "metadata": {},
   "outputs": [],
   "source": [
    "data.info()"
   ]
  },
  {
   "cell_type": "code",
   "execution_count": null,
   "metadata": {},
   "outputs": [],
   "source": [
    "data.isnull().sum()"
   ]
  },
  {
   "cell_type": "code",
   "execution_count": null,
   "metadata": {},
   "outputs": [],
   "source": [
    "plt.figure(figsize=(8, 4), dpi=100)\n",
    "sns.countplot(y='Gender', data=data, hue='Gender', palette='deep', legend=False)\n",
    "plt.title(\"Gender - Distribution\")\n",
    "plt.xlabel(\"Count\")\n",
    "plt.ylabel(\"Gender\")\n",
    "plt.show()"
   ]
  },
  {
   "cell_type": "code",
   "execution_count": null,
   "metadata": {},
   "outputs": [],
   "source": [
    "max_age = max(data['Age'])\n",
    "min_age = min(data['Age'])\n",
    "print(min_age)\n",
    "print(max_age)"
   ]
  },
  {
   "cell_type": "code",
   "execution_count": null,
   "metadata": {},
   "outputs": [],
   "source": [
    "median_age = data['Age'].median()\n",
    "mode_age = data['Age'].mode()[0]  \n",
    "\n",
    "plt.figure(figsize=(8, 4), dpi=100)\n",
    "sns.histplot(data['Age'], bins=7, kde=True, color=\"skyblue\")\n",
    "plt.axvline(median_age, color='orange', linestyle='--', linewidth=2, label=f'Median: {median_age}')\n",
    "plt.axvline(mode_age, color='purple', linestyle='--', linewidth=2, label=f'Mode: {mode_age}')\n",
    "plt.title(\"Age - Distribution\")\n",
    "plt.xlabel(\"Age\")\n",
    "plt.ylabel(\"Count\")\n",
    "plt.legend()\n",
    "plt.show()"
   ]
  },
  {
   "cell_type": "code",
   "execution_count": null,
   "metadata": {},
   "outputs": [],
   "source": [
    "plt.figure(figsize=(8, 4), dpi=100)\n",
    "sns.countplot(y='Marital Status', data=data, hue='Marital Status', palette='pastel', legend=False)\n",
    "plt.title(\"Marital Status - Distribution\")\n",
    "plt.xlabel(\"Count\")\n",
    "plt.ylabel(\"Marital Status\")\n",
    "plt.show()"
   ]
  },
  {
   "cell_type": "code",
   "execution_count": null,
   "metadata": {},
   "outputs": [],
   "source": [
    "plt.figure(figsize=(8, 4), dpi=100)\n",
    "sns.countplot(x='Family size', data=data, hue='Family size', palette='pastel', dodge=False)\n",
    "plt.title(\"Family size - Distribution\")\n",
    "plt.ylabel(\"Count\")\n",
    "plt.xlabel(\"Family size\")\n",
    "plt.show()"
   ]
  },
  {
   "cell_type": "code",
   "execution_count": null,
   "metadata": {},
   "outputs": [],
   "source": [
    "plt.figure(figsize=(8, 4), dpi=100)\n",
    "sns.countplot(y='Occupation', data=data, hue='Occupation', palette='muted', legend=False)\n",
    "plt.title(\"Occupation - Distribution\")\n",
    "plt.xlabel(\"Count\")\n",
    "plt.ylabel(\"Occupation\")\n",
    "plt.show()"
   ]
  },
  {
   "cell_type": "code",
   "execution_count": null,
   "metadata": {},
   "outputs": [],
   "source": [
    "plt.figure(figsize=(8, 4), dpi=100)\n",
    "sns.countplot(y='Educational Qualifications', data=data, hue='Educational Qualifications', palette='bright', legend=False)\n",
    "plt.title(\"Educational Qualifications - Distribution\")\n",
    "plt.xlabel(\"Count\")\n",
    "plt.ylabel(\"Educational Qualifications\")\n",
    "plt.show()"
   ]
  },
  {
   "cell_type": "code",
   "execution_count": null,
   "metadata": {},
   "outputs": [],
   "source": [
    "\n",
    "income_counts = data['Monthly Income'].value_counts()\n",
    "\n",
    "colors = sns.color_palette(\"pastel\")\n",
    "plt.figure(figsize=(10, 8), dpi=100)\n",
    "plt.pie(income_counts, labels=income_counts.index, autopct='%1.1f%%', startangle=140,\n",
    "        colors=colors, wedgeprops={'edgecolor': 'black', 'linewidth': 1}, textprops={'fontsize': 12})\n",
    "plt.title(\"Monthly Income - Distribution\", fontsize=16, fontweight='bold')\n",
    "\n",
    "plt.show()\n"
   ]
  },
  {
   "cell_type": "code",
   "execution_count": null,
   "metadata": {},
   "outputs": [],
   "source": [
    "fig = px.scatter_geo(\n",
    "    data, \n",
    "    lat='latitude', \n",
    "    lon='longitude', \n",
    "    text='Pin code', \n",
    "    title='Geographical Chart with Pincodes'\n",
    ")\n",
    "\n",
    "# Show the plot\n",
    "fig.show()"
   ]
  },
  {
   "cell_type": "code",
   "execution_count": null,
   "metadata": {},
   "outputs": [],
   "source": [
    "data['Feedback'] = data['Feedback'].str.strip()\n",
    "\n",
    "feedback_palette = {'Positive': '#66ff66', 'Negative': '#ff6666'}\n",
    "\n",
    "plt.figure(figsize=(8, 4), dpi=100)\n",
    "ax = sns.countplot(x='Feedback', data=data, hue='Feedback', palette=feedback_palette, dodge=False)\n",
    "\n",
    "total = len(data)\n",
    "for p in ax.patches:\n",
    "    height = p.get_height()\n",
    "    percentage = (height / total) * 100\n",
    "    ax.annotate(f'{percentage:.2f}%', (p.get_x() + p.get_width() / 2., height / 2),\n",
    "                ha='center', va='center', fontsize=12, color='black')\n",
    "\n",
    "plt.title(\"Feedback - Distribution\")\n",
    "plt.ylabel(\"Count\")\n",
    "plt.xlabel(\"Feedback\")\n",
    "plt.show()"
   ]
  },
  {
   "cell_type": "markdown",
   "metadata": {},
   "source": [
    "DATA PREPROSESSING"
   ]
  },
  {
   "cell_type": "markdown",
   "metadata": {},
   "source": [
    " Make Ordinal Columns Numerical"
   ]
  },
  {
   "cell_type": "code",
   "execution_count": null,
   "metadata": {},
   "outputs": [],
   "source": [
    "income_order = [\n",
    "    'No Income', \n",
    "    'Below Rs.10000', \n",
    "    '10001 to 25000', \n",
    "    '25001 to 50000', \n",
    "    'More than 50000'\n",
    "]\n",
    "data['Monthly Income'] = pd.Categorical(data['Monthly Income'], categories=income_order, ordered=True)\n",
    "data['Monthly Income Ordinal'] = data['Monthly Income'].cat.codes\n",
    "data = data.drop('Monthly Income',axis=1)\n",
    "\n",
    "\n",
    "educational_order = [\n",
    "    'Uneducated', \n",
    "    'School', \n",
    "    'Graduate', \n",
    "    'Post Graduate', \n",
    "    'Ph.D'\n",
    "]\n",
    "\n",
    "data['Educational Qualifications'] = pd.Categorical(data['Educational Qualifications'], categories=educational_order, ordered=True)\n",
    "data['Educational Qualifications Ordinal'] = data['Educational Qualifications'].cat.codes\n",
    "data = data.drop('Educational Qualifications',axis=1)\n",
    "\n",
    "\n",
    "data.head(10)"
   ]
  },
  {
   "cell_type": "markdown",
   "metadata": {},
   "source": [
    " Make Nominal Columns Numerical"
   ]
  },
  {
   "cell_type": "code",
   "execution_count": null,
   "metadata": {},
   "outputs": [],
   "source": [
    "data['Gender'], Gender_uniques = pd.factorize(data['Gender'])\n",
    "data['Feedback'] = np.where(data['Feedback'] == 'Positive', 1, 0)\n",
    "\n",
    "\n",
    "data = pd.get_dummies(data, columns=['Occupation'])\n",
    "data = pd.get_dummies(data, columns=['Marital Status'])\n",
    "\n",
    "data.head(10)"
   ]
  },
  {
   "cell_type": "markdown",
   "metadata": {},
   "source": [
    "TRAIN AND TEST MODELS"
   ]
  },
  {
   "cell_type": "code",
   "execution_count": null,
   "metadata": {},
   "outputs": [],
   "source": [
    "X = data.drop('Feedback', axis=1).values\n",
    "y = data['Feedback'].values\n",
    "\n",
    "scaler = StandardScaler()\n",
    "X_scaled = scaler.fit_transform(X)\n",
    "\n",
    "X_train, X_test, y_train, y_test = train_test_split(X_scaled, y, test_size=0.2, random_state=42)\n",
    "\n",
    "clf = RuleFit(max_rules=200)  \n",
    "\n",
    "clf.fit(X_train, y_train)\n",
    "\n",
    "predictions = clf.predict(X_test)\n",
    "\n",
    "predictions_binary = (predictions > 0.5).astype(int)\n",
    "\n",
    "precision = precision_score(y_test, predictions_binary, average='macro')\n",
    "recall = recall_score(y_test, predictions_binary, average='macro')\n",
    "f1 = f1_score(y_test, predictions_binary, average='macro')\n",
    "accuracy = accuracy_score(y_test, predictions_binary)\n",
    "\n",
    "print(f\"Rule-Based Accuracy: {accuracy:.4f}\")\n",
    "print(f\"Rule-Based Precision: {precision:.4f}\")\n",
    "print(f\"Rule-Based Recall: {recall:.4f}\")\n",
    "print(f\"Rule-Based F1-Score: {f1:.4f}\")\n",
    "\n"
   ]
  },
  {
   "cell_type": "code",
   "execution_count": 37,
   "metadata": {},
   "outputs": [
    {
     "name": "stdout",
     "output_type": "stream",
     "text": [
      "DTree Best parameters from cross-validation: {'max_depth': 3, 'min_samples_leaf': 3}\n",
      "DTree Best cross-validation score: 0.8064516129032258\n",
      "DTree Cross-validation scores for each fold: [0.80645161 0.79032258 0.83870968 0.79032258 0.80645161]\n",
      "DTree Mean cross-validation accuracy: 0.8064516129032258\n",
      "DTree Test Accuracy: 0.7692\n",
      "DTree Test Precision: 0.5237\n",
      "DTree Test Recall: 0.5237\n",
      "DTree Test F1-Score: 0.5237\n"
     ]
    }
   ],
   "source": [
    "X = data.drop('Feedback', axis=1).values \n",
    "y = data['Feedback'].values  \n",
    "\n",
    "X_train_full, X_test, y_train_full, y_test = train_test_split(X, y, test_size=0.2, random_state=42)\n",
    "\n",
    "scaler = StandardScaler()\n",
    "X_train_full_scaled = scaler.fit_transform(X_train_full)\n",
    "X_test_scaled = scaler.transform(X_test)\n",
    "\n",
    "params = {\n",
    "    'max_depth': [2, 3, 4, 5],\n",
    "    'min_samples_leaf': [2, 3, 4]\n",
    "}\n",
    "\n",
    "clf = DecisionTreeClassifier()\n",
    "\n",
    "skf = StratifiedKFold(n_splits=5, shuffle=True, random_state=42)\n",
    "\n",
    "grid_search = GridSearchCV(clf, params, cv=skf, scoring='accuracy', n_jobs=-1)\n",
    "grid_search.fit(X_train_full_scaled, y_train_full)\n",
    "\n",
    "print(\"DTree Best parameters from cross-validation:\", grid_search.best_params_)\n",
    "print(\"DTree Best cross-validation score:\", grid_search.best_score_)\n",
    "\n",
    "best_clf = grid_search.best_estimator_\n",
    "fold_accuracies = cross_val_score(best_clf, X_train_full_scaled, y_train_full, cv=skf)\n",
    "\n",
    "print(\"DTree Cross-validation scores for each fold:\", fold_accuracies)\n",
    "print(\"DTree Mean cross-validation accuracy:\", fold_accuracies.mean())\n",
    "\n",
    "y_pred = best_clf.predict(X_test_scaled)\n",
    "\n",
    "test_accuracy = accuracy_score(y_test, y_pred)\n",
    "test_precision = precision_score(y_test, y_pred, average='macro')\n",
    "test_recall = recall_score(y_test, y_pred, average='macro')\n",
    "test_f1 = f1_score(y_test, y_pred, average='macro')\n",
    "\n",
    "print(f\"DTree Test Accuracy: {test_accuracy:.4f}\")\n",
    "print(f\"DTree Test Precision: {test_precision:.4f}\")\n",
    "print(f\"DTree Test Recall: {test_recall:.4f}\")\n",
    "print(f\"DTree Test F1-Score: {test_f1:.4f}\")\n"
   ]
  },
  {
   "cell_type": "code",
   "execution_count": 38,
   "metadata": {},
   "outputs": [
    {
     "name": "stdout",
     "output_type": "stream",
     "text": [
      "NB Accuracy: 0.8077\n",
      "NB Precision: 0.6136\n",
      "NB Recall: 0.6221\n",
      "NB F1-Score: 0.6175\n"
     ]
    }
   ],
   "source": [
    "X = data.drop('Feedback', axis=1).values\n",
    "y = data['Feedback'].values\n",
    "X_train, X_test, y_train, y_test = train_test_split(X, y, test_size=0.2, random_state=42)\n",
    "\n",
    "scaler = StandardScaler()\n",
    "X_train_scaled = scaler.fit_transform(X_train)\n",
    "X_test_scaled = scaler.transform(X_test)\n",
    "\n",
    "clf = GaussianNB()\n",
    "clf.fit(X_train_scaled, y_train)\n",
    "\n",
    "y_pred = clf.predict(X_test_scaled)\n",
    "\n",
    "accuracy = accuracy_score(y_test, y_pred)\n",
    "precision = precision_score(y_test, y_pred, average='macro')\n",
    "recall = recall_score(y_test, y_pred, average='macro')\n",
    "f1 = f1_score(y_test, y_pred, average='macro')\n",
    "\n",
    "print(f\"NB Accuracy: {accuracy:.4f}\")\n",
    "print(f\"NB Precision: {precision:.4f}\")\n",
    "print(f\"NB Recall: {recall:.4f}\")\n",
    "print(f\"NB F1-Score: {f1:.4f}\")"
   ]
  }
 ],
 "metadata": {
  "kernelspec": {
   "display_name": "Python 3",
   "language": "python",
   "name": "python3"
  },
  "language_info": {
   "codemirror_mode": {
    "name": "ipython",
    "version": 3
   },
   "file_extension": ".py",
   "mimetype": "text/x-python",
   "name": "python",
   "nbconvert_exporter": "python",
   "pygments_lexer": "ipython3",
   "version": "3.12.3"
  }
 },
 "nbformat": 4,
 "nbformat_minor": 2
}
